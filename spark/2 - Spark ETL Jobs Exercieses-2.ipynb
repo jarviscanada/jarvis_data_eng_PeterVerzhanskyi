{
 "cells": [
  {
   "cell_type": "markdown",
   "metadata": {
    "application/vnd.databricks.v1+cell": {
     "cellMetadata": {},
     "inputWidgets": {},
     "nuid": "9be60341-fe75-47c1-b33c-d7bacb1fe4ff",
     "showTitle": false,
     "tableResultSettingsMap": {},
     "title": ""
    }
   },
   "source": [
    "# Learning Objectives\n",
    "\n",
    "In this notebook, you will craft sophisticated ETL jobs that interface with a variety of common data sources, such as \n",
    "- REST APIs (HTTP endpoints)\n",
    "- RDBMS\n",
    "- Hive tables (managed tables)\n",
    "- Various file formats (csv, json, parquet, etc.)"
   ]
  },
  {
   "cell_type": "markdown",
   "metadata": {
    "application/vnd.databricks.v1+cell": {
     "cellMetadata": {},
     "inputWidgets": {},
     "nuid": "5d9fe8dc-6b2e-4499-8961-7e01309d05f1",
     "showTitle": false,
     "tableResultSettingsMap": {},
     "title": ""
    }
   },
   "source": [
    "\n",
    "# Interview Questions\n",
    "\n",
    "As you progress through the practice, attempt to answer the following questions:\n",
    "\n",
    "## Columnar File\n",
    "- What is a columnar file format and what advantages does it offer?\n",
    "  - A columnar file format stored data by columns instead of rows. This means all values from the same column are stored together on disk, which is different from row-based formats like (csv or json) that store entire records together. \n",
    "- Why is Parquet frequently used with Spark and how does it function?\n",
    "  - Parquet is frequently used with Spark because it's a columnar, compressed and efficient file format that integrates seamlessly with Spark execution engine\n",
    "\n",
    "- How do you read/write data from/to a Parquet file using a DataFrame?\n",
    "  - To read and write to a Parquet file using a Spark DataFrame.\n",
    "  Read:\n",
    "\n",
    "  df = spark.read.parquet(\"path/to/parquet_file\")\n",
    "\n",
    "  Write:\n",
    "\n",
    "  df.write.parquet(\"path/to/output_directory\")\n",
    "\n",
    "## Partitions\n",
    "- How do you save data to a file system by partitions? (Hint: Provide the code)\n",
    "\n",
    "  - df.write.partitionBy(\"column_name\").parquet(\"path/to/output\")\n",
    "- How and why can partitions reduce query execution time? (Hint: Give an example)\n",
    "\n",
    "  - Partitions reduce query execution time by reading only the relevant data, skipping entire folders based on partitions columns. \n",
    "  - Spark uses partition pruning - it scan only the files matching the filter condition on partitioned columns, reducing I/O and processing. \n",
    "\n",
    "## JDBC and RDBMS\n",
    "- How do you load data from an RDBMS into Spark? (Hint: Discuss the steps and JDBC)\n",
    "- Set JDBC parameters: \n",
    " - URL, driver, table name, username, password\n",
    " - Use read.format(\"jdbc\") with options\n",
    "\n",
    "  df = spark.read \\\n",
    "      .format(\"jdbc\") \\\n",
    "      .option(\"url\", \"jdbc:postgresql://hostname:5432/dbname\") \\\n",
    "      .option(\"dbtable\", \"schema.table_name\") \\\n",
    "      .option(\"user\", \"username\") \\\n",
    "      .option(\"password\", \"password\") \\\n",
    "      .option(\"driver\", \"org.postgresql.Driver\") \\\n",
    "      .load()\n",
    "\n",
    "## REST API and HTTP Requests\n",
    "- How can Spark be used to fetch data from a REST API? (Hint: Discuss making API requests)\n",
    "\n",
    "- Spark doesnt natively support REST APIs, but you can fetch data using standard Python or Scala code, then convert it into a DataFrame. \n",
    "\n",
    "- Steps:\n",
    " 1. Make API requests (Python) or http.client(Scala)\n",
    " 2. Parse the JSON/XML response\n",
    " 3. Convert parsed data to a DataFrame\n",
    " 4. Process with Spark\n",
    "\n",
    " "
   ]
  },
  {
   "cell_type": "markdown",
   "metadata": {
    "application/vnd.databricks.v1+cell": {
     "cellMetadata": {},
     "inputWidgets": {},
     "nuid": "8c7f0dcb-2214-41ae-a6f4-12d5a34506ff",
     "showTitle": false,
     "tableResultSettingsMap": {},
     "title": ""
    }
   },
   "source": [
    "## ETL Job One: Parquet file\n",
    "### Extract\n",
    "Extract data from the managed tables (e.g. `bookings_csv`, `members_csv`, and `facilities_csv`)\n",
    "\n",
    "### Transform\n",
    "Data transformation requirements https://pgexercises.com/questions/aggregates/fachoursbymonth.html\n",
    "\n",
    "### Load\n",
    "Load data into a parquet file\n",
    "\n",
    "### What is Parquet? \n",
    "\n",
    "Columnar files are an important technique for optimizing Spark queries. Additionally, they are often tested in interviews.\n",
    "- https://www.youtube.com/watch?v=KLFadWdomyI\n",
    "- https://www.databricks.com/glossary/what-is-parquet"
   ]
  },
  {
   "cell_type": "code",
   "execution_count": 0,
   "metadata": {
    "application/vnd.databricks.v1+cell": {
     "cellMetadata": {
      "byteLimit": 2048000,
      "rowLimit": 10000
     },
     "inputWidgets": {},
     "nuid": "33324d02-bc67-4c31-b822-8fe8c69fead5",
     "showTitle": false,
     "tableResultSettingsMap": {},
     "title": ""
    }
   },
   "outputs": [],
   "source": [
    "from pyspark.sql.functions import col, sum\n",
    "\n",
    "# Load data\n",
    "bookings_df = spark.sql(\"SELECT * FROM bookings\")\n",
    "facilities_df = spark.sql(\"SELECT * FROM facilities\")\n",
    "\n",
    "# Filtering bookings for September 2012 and aggregating by facility ID\n",
    "september_bookings_df = bookings_df.filter(\n",
    "    (bookings_df.starttime >= \"2012-09-01\") & (bookings_df.starttime < \"2012-10-01\")\n",
    ")\n",
    "\n",
    "# Cast 'slots' to an integer before aggregating\n",
    "bookings_count_df = september_bookings_df.withColumn(\"slots\", col(\"slots\").cast(\"int\")).groupBy(\"facid\").agg(\n",
    "    sum(\"slots\").alias(\"total_slots\")\n",
    ")\n",
    "\n",
    "# Join with facilities to get the facility name, explicitly reference 'facid' columns\n",
    "result_df = bookings_count_df.alias(\"bks\").join(\n",
    "    facilities_df.alias(\"fac\"), \n",
    "    col(\"bks.facid\") == col(\"fac.facid\"), \n",
    "    \"inner\"\n",
    ").select(\n",
    "    col(\"bks.facid\"), \n",
    "    col(\"fac.name\"), \n",
    "    col(\"bks.total_slots\")\n",
    ").orderBy(\"bks.total_slots\", ascending=False)\n",
    "\n",
    "# Display the transformed data\n",
    "# display(result_df)\n",
    "\n",
    "# Save the result into a Parquet file\n",
    "result_df.write.parquet(\"/FileStore/tables/total_slots_september_2012.parquet\")\n"
   ]
  },
  {
   "cell_type": "markdown",
   "metadata": {
    "application/vnd.databricks.v1+cell": {
     "cellMetadata": {},
     "inputWidgets": {},
     "nuid": "b51d425e-d532-47e5-8cbf-a91ca78246b5",
     "showTitle": false,
     "tableResultSettingsMap": {},
     "title": ""
    }
   },
   "source": [
    "## ETL Job Two: Partitions\n",
    "\n",
    "### Extract\n",
    "Extract data from the managed tables (e.g. `bookings_csv`, `members_csv`, and `facilities_csv`)\n",
    "\n",
    "### Transform\n",
    "Transform the data https://pgexercises.com/questions/joins/threejoin.html\n",
    "\n",
    "### Load\n",
    "Partition the result data by facility column and then save to `threejoin_delta` managed table. Additionally, they are often tested in interviews.\n",
    "\n",
    "hint: https://spark.apache.org/docs/latest/api/python/reference/pyspark.sql/api/pyspark.sql.DataFrameWriter.partitionBy.html\n",
    "\n",
    "What are paritions? \n",
    "\n",
    "Partitions are an important technique to optimize Spark queries\n",
    "- https://www.youtube.com/watch?v=hvF7tY2-L3U&t=268s"
   ]
  },
  {
   "cell_type": "code",
   "execution_count": 0,
   "metadata": {
    "application/vnd.databricks.v1+cell": {
     "cellMetadata": {
      "byteLimit": 2048000,
      "rowLimit": 10000
     },
     "inputWidgets": {},
     "nuid": "32aea2ca-5178-4034-91ee-c09942c5f518",
     "showTitle": false,
     "tableResultSettingsMap": {},
     "title": ""
    }
   },
   "outputs": [
    {
     "output_type": "display_data",
     "data": {
      "text/html": [
       "<style scoped>\n",
       "  .table-result-container {\n",
       "    max-height: 300px;\n",
       "    overflow: auto;\n",
       "  }\n",
       "  table, th, td {\n",
       "    border: 1px solid black;\n",
       "    border-collapse: collapse;\n",
       "  }\n",
       "  th, td {\n",
       "    padding: 5px;\n",
       "  }\n",
       "  th {\n",
       "    text-align: left;\n",
       "  }\n",
       "</style><div class='table-result-container'><table class='table-result'><thead style='background-color: white'><tr><th>member_name</th><th>name</th></tr></thead><tbody><tr><td>Anna, Mackenzie</td><td>Table Tennis</td></tr><tr><td>Anne, Baker</td><td>Table Tennis</td></tr><tr><td>Anne, Baker</td><td>Tennis Court 1</td></tr><tr><td>Anne, Baker</td><td>Tennis Court 2</td></tr><tr><td>Burton, Tracy</td><td>Table Tennis</td></tr><tr><td>Burton, Tracy</td><td>Tennis Court 1</td></tr><tr><td>Burton, Tracy</td><td>Tennis Court 2</td></tr><tr><td>Charles, Owen</td><td>Table Tennis</td></tr><tr><td>Charles, Owen</td><td>Tennis Court 1</td></tr><tr><td>Charles, Owen</td><td>Tennis Court 2</td></tr><tr><td>Darren, Smith</td><td>Table Tennis</td></tr><tr><td>Darren, Smith</td><td>Tennis Court 2</td></tr><tr><td>David, Farrell</td><td>Tennis Court 1</td></tr><tr><td>David, Farrell</td><td>Tennis Court 2</td></tr><tr><td>David, Jones</td><td>Table Tennis</td></tr><tr><td>David, Jones</td><td>Tennis Court 1</td></tr><tr><td>David, Jones</td><td>Tennis Court 2</td></tr><tr><td>David, Pinker</td><td>Table Tennis</td></tr><tr><td>David, Pinker</td><td>Tennis Court 1</td></tr><tr><td>Douglas, Jones</td><td>Tennis Court 1</td></tr><tr><td>Erica, Crumpet</td><td>Table Tennis</td></tr><tr><td>Erica, Crumpet</td><td>Tennis Court 1</td></tr><tr><td>Florence, Bader</td><td>Table Tennis</td></tr><tr><td>Florence, Bader</td><td>Tennis Court 1</td></tr><tr><td>Florence, Bader</td><td>Tennis Court 2</td></tr><tr><td>GUEST, GUEST</td><td>Table Tennis</td></tr><tr><td>GUEST, GUEST</td><td>Tennis Court 1</td></tr><tr><td>GUEST, GUEST</td><td>Tennis Court 2</td></tr><tr><td>Gerald, Butters</td><td>Table Tennis</td></tr><tr><td>Gerald, Butters</td><td>Tennis Court 1</td></tr><tr><td>Gerald, Butters</td><td>Tennis Court 2</td></tr><tr><td>Henrietta, Rumney</td><td>Tennis Court 2</td></tr><tr><td>Henry, Worthington-Smyth</td><td>Table Tennis</td></tr><tr><td>Jack, Smith</td><td>Table Tennis</td></tr><tr><td>Jack, Smith</td><td>Tennis Court 1</td></tr><tr><td>Jack, Smith</td><td>Tennis Court 2</td></tr><tr><td>Janice, Joplette</td><td>Table Tennis</td></tr><tr><td>Janice, Joplette</td><td>Tennis Court 1</td></tr><tr><td>Janice, Joplette</td><td>Tennis Court 2</td></tr><tr><td>Jemima, Farrell</td><td>Table Tennis</td></tr><tr><td>Jemima, Farrell</td><td>Tennis Court 1</td></tr><tr><td>Jemima, Farrell</td><td>Tennis Court 2</td></tr><tr><td>Joan, Coplin</td><td>Table Tennis</td></tr><tr><td>Joan, Coplin</td><td>Tennis Court 1</td></tr><tr><td>John, Hunt</td><td>Table Tennis</td></tr><tr><td>John, Hunt</td><td>Tennis Court 1</td></tr><tr><td>John, Hunt</td><td>Tennis Court 2</td></tr><tr><td>Matthew, Genting</td><td>Table Tennis</td></tr><tr><td>Matthew, Genting</td><td>Tennis Court 1</td></tr><tr><td>Millicent, Purview</td><td>Table Tennis</td></tr><tr><td>Millicent, Purview</td><td>Tennis Court 2</td></tr><tr><td>Nancy, Dare</td><td>Table Tennis</td></tr><tr><td>Nancy, Dare</td><td>Tennis Court 1</td></tr><tr><td>Nancy, Dare</td><td>Tennis Court 2</td></tr><tr><td>Ponder, Stibbons</td><td>Table Tennis</td></tr><tr><td>Ponder, Stibbons</td><td>Tennis Court 1</td></tr><tr><td>Ponder, Stibbons</td><td>Tennis Court 2</td></tr><tr><td>Ramnaresh, Sarwin</td><td>Table Tennis</td></tr><tr><td>Ramnaresh, Sarwin</td><td>Tennis Court 1</td></tr><tr><td>Ramnaresh, Sarwin</td><td>Tennis Court 2</td></tr><tr><td>Tim, Boothe</td><td>Table Tennis</td></tr><tr><td>Tim, Boothe</td><td>Tennis Court 1</td></tr><tr><td>Tim, Boothe</td><td>Tennis Court 2</td></tr><tr><td>Tim, Rownam</td><td>Table Tennis</td></tr><tr><td>Tim, Rownam</td><td>Tennis Court 1</td></tr><tr><td>Tim, Rownam</td><td>Tennis Court 2</td></tr><tr><td>Timothy, Baker</td><td>Table Tennis</td></tr><tr><td>Timothy, Baker</td><td>Tennis Court 1</td></tr><tr><td>Timothy, Baker</td><td>Tennis Court 2</td></tr><tr><td>Tracy, Smith</td><td>Table Tennis</td></tr><tr><td>Tracy, Smith</td><td>Tennis Court 1</td></tr><tr><td>Tracy, Smith</td><td>Tennis Court 2</td></tr></tbody></table></div>"
      ]
     },
     "metadata": {
      "application/vnd.databricks.v1+output": {
       "addedWidgets": {},
       "aggData": [],
       "aggError": "",
       "aggOverflow": false,
       "aggSchema": [],
       "aggSeriesLimitReached": false,
       "aggType": "",
       "arguments": {},
       "columnCustomDisplayInfos": {},
       "data": [
        [
         "Anna, Mackenzie",
         "Table Tennis"
        ],
        [
         "Anne, Baker",
         "Table Tennis"
        ],
        [
         "Anne, Baker",
         "Tennis Court 1"
        ],
        [
         "Anne, Baker",
         "Tennis Court 2"
        ],
        [
         "Burton, Tracy",
         "Table Tennis"
        ],
        [
         "Burton, Tracy",
         "Tennis Court 1"
        ],
        [
         "Burton, Tracy",
         "Tennis Court 2"
        ],
        [
         "Charles, Owen",
         "Table Tennis"
        ],
        [
         "Charles, Owen",
         "Tennis Court 1"
        ],
        [
         "Charles, Owen",
         "Tennis Court 2"
        ],
        [
         "Darren, Smith",
         "Table Tennis"
        ],
        [
         "Darren, Smith",
         "Tennis Court 2"
        ],
        [
         "David, Farrell",
         "Tennis Court 1"
        ],
        [
         "David, Farrell",
         "Tennis Court 2"
        ],
        [
         "David, Jones",
         "Table Tennis"
        ],
        [
         "David, Jones",
         "Tennis Court 1"
        ],
        [
         "David, Jones",
         "Tennis Court 2"
        ],
        [
         "David, Pinker",
         "Table Tennis"
        ],
        [
         "David, Pinker",
         "Tennis Court 1"
        ],
        [
         "Douglas, Jones",
         "Tennis Court 1"
        ],
        [
         "Erica, Crumpet",
         "Table Tennis"
        ],
        [
         "Erica, Crumpet",
         "Tennis Court 1"
        ],
        [
         "Florence, Bader",
         "Table Tennis"
        ],
        [
         "Florence, Bader",
         "Tennis Court 1"
        ],
        [
         "Florence, Bader",
         "Tennis Court 2"
        ],
        [
         "GUEST, GUEST",
         "Table Tennis"
        ],
        [
         "GUEST, GUEST",
         "Tennis Court 1"
        ],
        [
         "GUEST, GUEST",
         "Tennis Court 2"
        ],
        [
         "Gerald, Butters",
         "Table Tennis"
        ],
        [
         "Gerald, Butters",
         "Tennis Court 1"
        ],
        [
         "Gerald, Butters",
         "Tennis Court 2"
        ],
        [
         "Henrietta, Rumney",
         "Tennis Court 2"
        ],
        [
         "Henry, Worthington-Smyth",
         "Table Tennis"
        ],
        [
         "Jack, Smith",
         "Table Tennis"
        ],
        [
         "Jack, Smith",
         "Tennis Court 1"
        ],
        [
         "Jack, Smith",
         "Tennis Court 2"
        ],
        [
         "Janice, Joplette",
         "Table Tennis"
        ],
        [
         "Janice, Joplette",
         "Tennis Court 1"
        ],
        [
         "Janice, Joplette",
         "Tennis Court 2"
        ],
        [
         "Jemima, Farrell",
         "Table Tennis"
        ],
        [
         "Jemima, Farrell",
         "Tennis Court 1"
        ],
        [
         "Jemima, Farrell",
         "Tennis Court 2"
        ],
        [
         "Joan, Coplin",
         "Table Tennis"
        ],
        [
         "Joan, Coplin",
         "Tennis Court 1"
        ],
        [
         "John, Hunt",
         "Table Tennis"
        ],
        [
         "John, Hunt",
         "Tennis Court 1"
        ],
        [
         "John, Hunt",
         "Tennis Court 2"
        ],
        [
         "Matthew, Genting",
         "Table Tennis"
        ],
        [
         "Matthew, Genting",
         "Tennis Court 1"
        ],
        [
         "Millicent, Purview",
         "Table Tennis"
        ],
        [
         "Millicent, Purview",
         "Tennis Court 2"
        ],
        [
         "Nancy, Dare",
         "Table Tennis"
        ],
        [
         "Nancy, Dare",
         "Tennis Court 1"
        ],
        [
         "Nancy, Dare",
         "Tennis Court 2"
        ],
        [
         "Ponder, Stibbons",
         "Table Tennis"
        ],
        [
         "Ponder, Stibbons",
         "Tennis Court 1"
        ],
        [
         "Ponder, Stibbons",
         "Tennis Court 2"
        ],
        [
         "Ramnaresh, Sarwin",
         "Table Tennis"
        ],
        [
         "Ramnaresh, Sarwin",
         "Tennis Court 1"
        ],
        [
         "Ramnaresh, Sarwin",
         "Tennis Court 2"
        ],
        [
         "Tim, Boothe",
         "Table Tennis"
        ],
        [
         "Tim, Boothe",
         "Tennis Court 1"
        ],
        [
         "Tim, Boothe",
         "Tennis Court 2"
        ],
        [
         "Tim, Rownam",
         "Table Tennis"
        ],
        [
         "Tim, Rownam",
         "Tennis Court 1"
        ],
        [
         "Tim, Rownam",
         "Tennis Court 2"
        ],
        [
         "Timothy, Baker",
         "Table Tennis"
        ],
        [
         "Timothy, Baker",
         "Tennis Court 1"
        ],
        [
         "Timothy, Baker",
         "Tennis Court 2"
        ],
        [
         "Tracy, Smith",
         "Table Tennis"
        ],
        [
         "Tracy, Smith",
         "Tennis Court 1"
        ],
        [
         "Tracy, Smith",
         "Tennis Court 2"
        ]
       ],
       "datasetInfos": [],
       "dbfsResultPath": null,
       "isJsonSchema": true,
       "metadata": {},
       "overflow": false,
       "plotOptions": {
        "customPlotOptions": {},
        "displayType": "table",
        "pivotAggregation": null,
        "pivotColumns": null,
        "xColumns": null,
        "yColumns": null
       },
       "removedWidgets": [],
       "schema": [
        {
         "metadata": "{}",
         "name": "member_name",
         "type": "\"string\""
        },
        {
         "metadata": "{}",
         "name": "name",
         "type": "\"string\""
        }
       ],
       "type": "table"
      }
     },
     "output_type": "display_data"
    }
   ],
   "source": [
    "# Write your solution here\n",
    "\n",
    "# Extracting the data\n",
    "bookings_df = spark.sql(\"SELECT * FROM bookings\")\n",
    "members_df = spark.sql(\"SELECT * FROM members\")\n",
    "facilities_df = spark.sql(\"SELECT * FROM facilities\")\n",
    "\n",
    "# Transforming the data\n",
    "from pyspark.sql.functions import col, concat_ws\n",
    "\n",
    "# Filtering booking for tennis courts\n",
    "tennis_facility_df = facilities_df.filter(facilities_df.name.contains('Tennis'))\n",
    "\n",
    "# Join bookings with members and tennis facilities\n",
    "result2_df = bookings_df.join(members_df, bookings_df.memid == members_df.memid) \\\n",
    "    .join(tennis_facility_df, bookings_df.facid == tennis_facility_df.facid) \\\n",
    "    .select(\n",
    "        concat_ws(\", \", members_df.firstname, members_df.surname).alias(\"member_name\"),\n",
    "        tennis_facility_df[\"name\"]  # Fixed: Reference \"name\" directly\n",
    "    ) \\\n",
    "    .distinct()\n",
    "\n",
    "# Sort by member name and facility name\n",
    "result2_df = result2_df.orderBy(\"member_name\", \"name\")\n",
    "\n",
    "# Displaying the result (Optional for testing purposes)\n",
    "display(result2_df)\n",
    "  \n",
    "\n",
    "# Partition the data by 'facility_name' and write to Delta managed table\n",
    "result_df.write \\\n",
    "    .partitionBy(\"name\") \\\n",
    "    .format(\"delta\") \\\n",
    "    .mode(\"overwrite\") \\\n",
    "    .saveAsTable(\"threejoin_delta\")\n"
   ]
  },
  {
   "cell_type": "markdown",
   "metadata": {
    "application/vnd.databricks.v1+cell": {
     "cellMetadata": {},
     "inputWidgets": {},
     "nuid": "7610de14-acd6-4374-945d-661dbc08a08e",
     "showTitle": false,
     "tableResultSettingsMap": {},
     "title": ""
    }
   },
   "source": [
    "## ETL Job Three: HTTP Requests\n",
    "\n",
    "### Extract\n",
    "Extract daily stock price data price from the following companies, Google, Apple, Microsoft, and Tesla. \n",
    "\n",
    "Data Source\n",
    "- API: https://rapidapi.com/alphavantage/api/alpha-vantage\n",
    "- Endpoint: GET `TIME_SERIES_DAILY`\n",
    "\n",
    "Sample HTTP request\n",
    "\n",
    "```\n",
    "curl --request GET \\\n",
    "\t--url 'https://alpha-vantage.p.rapidapi.com/query?function=TIME_SERIES_DAILY&symbol=TSLA&outputsize=compact&datatype=json' \\\n",
    "\t--header 'X-RapidAPI-Host: alpha-vantage.p.rapidapi.com' \\\n",
    "\t--header 'X-RapidAPI-Key: [YOUR_KEY]'\n",
    "\n",
    "```\n",
    "\n",
    "Sample Python HTTP request\n",
    "\n",
    "```\n",
    "import requests\n",
    "\n",
    "url = \"https://alpha-vantage.p.rapidapi.com/query\"\n",
    "\n",
    "querystring = {\n",
    "    \"function\":\"TIME_SERIES_DAILY\",\n",
    "    \"symbol\":\"IBM\",\n",
    "    \"datatype\":\"json\",\n",
    "    \"outputsize\":\"compact\"\n",
    "}\n",
    "\n",
    "headers = {\n",
    "    \"X-RapidAPI-Host\": \"alpha-vantage.p.rapidapi.com\",\n",
    "    \"X-RapidAPI-Key\": \"[YOUR_KEY]\"\n",
    "}\n",
    "\n",
    "response = requests.get(url, headers=headers, params=querystring)\n",
    "\n",
    "data = response.json()\n",
    "\n",
    "# Now 'data' contains the daily time series data for \"IBM\"\n",
    "```\n",
    "\n",
    "### Transform\n",
    "Find **weekly** max closing price for each company.\n",
    "\n",
    "hints: \n",
    "  - Use a `for-loop` to get stock data for each company\n",
    "  - Use the spark `union` operation to concat all data into one DF\n",
    "  - create a new `week` column from the data column\n",
    "  - use `group by` to calcualte max closing price\n",
    "\n",
    "### Load\n",
    "- Partition `DF` by company\n",
    "- Load the DF in to a managed table called, `max_closing_price_weekly`"
   ]
  },
  {
   "cell_type": "code",
   "execution_count": 0,
   "metadata": {
    "application/vnd.databricks.v1+cell": {
     "cellMetadata": {
      "byteLimit": 2048000,
      "rowLimit": 10000
     },
     "inputWidgets": {},
     "nuid": "7b76fcc5-fc12-4401-a16c-e24c4c890dd0",
     "showTitle": false,
     "tableResultSettingsMap": {},
     "title": ""
    }
   },
   "outputs": [
    {
     "output_type": "stream",
     "name": "stdout",
     "output_type": "stream",
     "text": [
      "{'Meta Data': {'1. Information': 'Daily Prices (open, high, low, close) and Volumes', '2. Symbol': 'GOOGL', '3. Last Refreshed': '2025-03-28', '4. Output Size': 'Compact', '5. Time Zone': 'US/Eastern'}, 'Time Series (Daily)': {'2025-03-28': {'1. open': '160.4900', '2. high': '161.8200', '3. low': '153.6300', '4. close': '154.3300', '5. volume': '47801295'}, '2025-03-27': {'1. open': '164.6300', '2. high': '165.4200', '3. low': '162.0000', '4. close': '162.2400', '5. volume': '24508273'}, '2025-03-26': {'1. open': '169.0000', '2. high': '169.6100', '3. low': '164.8400', '4. close': '165.0600', '5. volume': '28939326'}, '2025-03-25': {'1. open': '168.9800', '2. high': '170.6300', '3. low': '168.3150', '4. close': '170.5600', '5. volume': '24174373'}, '2025-03-24': {'1. open': '167.0650', '2. high': '168.3200', '3. low': '165.1400', '4. close': '167.6800', '5. volume': '30879129'}, '2025-03-21': {'1. open': '161.2050', '2. high': '164.2400', '3. low': '160.8901', '4. close': '163.9900', '5. volume': '36625764'}, '2025-03-20': {'1. open': '161.5700', '2. high': '164.8900', '3. low': '160.9600', '4. close': '162.8000', '5. volume': '28138464'}, '2025-03-19': {'1. open': '161.7600', '2. high': '165.8700', '3. low': '161.0000', '4. close': '163.8900', '5. volume': '34275582'}, '2025-03-18': {'1. open': '163.6750', '2. high': '164.2500', '3. low': '156.7200', '4. close': '160.6700', '5. volume': '42074751'}, '2025-03-17': {'1. open': '165.0300', '2. high': '166.3000', '3. low': '163.6700', '4. close': '164.2900', '5. volume': '31184335'}, '2025-03-14': {'1. open': '163.2700', '2. high': '166.4900', '3. low': '162.4500', '4. close': '165.4900', '5. volume': '31995894'}, '2025-03-13': {'1. open': '166.0350', '2. high': '166.1300', '3. low': '162.1100', '4. close': '162.7600', '5. volume': '31756214'}, '2025-03-12': {'1. open': '166.5800', '2. high': '167.6399', '3. low': '163.5300', '4. close': '167.1100', '5. volume': '28372396'}, '2025-03-11': {'1. open': '164.9100', '2. high': '166.7500', '3. low': '161.3700', '4. close': '164.0400', '5. volume': '39587414'}, '2025-03-10': {'1. open': '168.2600', '2. high': '168.4600', '3. low': '163.6900', '4. close': '165.8700', '5. volume': '43377356'}, '2025-03-07': {'1. open': '171.2600', '2. high': '174.9700', '3. low': '170.2700', '4. close': '173.8600', '5. volume': '27385813'}, '2025-03-06': {'1. open': '170.5300', '2. high': '174.8100', '3. low': '170.5000', '4. close': '172.3500', '5. volume': '28301953'}, '2025-03-05': {'1. open': '170.5200', '2. high': '173.7800', '3. low': '169.0600', '4. close': '173.0200', '5. volume': '30954922'}, '2025-03-04': {'1. open': '166.2400', '2. high': '173.2946', '3. low': '165.8000', '4. close': '170.9200', '5. volume': '45387996'}, '2025-03-03': {'1. open': '171.9250', '2. high': '173.3700', '3. low': '165.9300', '4. close': '167.0100', '5. volume': '40770451'}, '2025-02-28': {'1. open': '168.6800', '2. high': '170.6100', '3. low': '166.7700', '4. close': '170.2800', '5. volume': '48130565'}, '2025-02-27': {'1. open': '173.9900', '2. high': '174.5600', '3. low': '167.9400', '4. close': '168.5000', '5. volume': '39991015'}, '2025-02-26': {'1. open': '175.0700', '2. high': '176.0800', '3. low': '171.5807', '4. close': '172.7300', '5. volume': '35431268'}, '2025-02-25': {'1. open': '178.0400', '2. high': '178.7400', '3. low': '174.6939', '4. close': '175.4200', '5. volume': '41913411'}, '2025-02-24': {'1. open': '181.9900', '2. high': '183.1200', '3. low': '178.8850', '4. close': '179.2500', '5. volume': '29854206'}, '2025-02-21': {'1. open': '185.1500', '2. high': '185.3400', '3. low': '179.0800', '4. close': '179.6600', '5. volume': '35199239'}, '2025-02-20': {'1. open': '184.8000', '2. high': '185.3100', '3. low': '182.7200', '4. close': '184.5600', '5. volume': '20441462'}, '2025-02-19': {'1. open': '184.0700', '2. high': '185.4600', '3. low': '183.5900', '4. close': '185.2700', '5. volume': '19549396'}, '2025-02-18': {'1. open': '185.6000', '2. high': '185.9600', '3. low': '181.7401', '4. close': '183.7700', '5. volume': '29916675'}, '2025-02-14': {'1. open': '185.0550', '2. high': '186.4000', '3. low': '184.3200', '4. close': '185.2300', '5. volume': '20448437'}, '2025-02-13': {'1. open': '184.3200', '2. high': '186.2800', '3. low': '183.1400', '4. close': '186.1400', '5. volume': '21402523'}, '2025-02-12': {'1. open': '183.2200', '2. high': '185.1100', '3. low': '181.8300', '4. close': '183.6100', '5. volume': '22072559'}, '2025-02-11': {'1. open': '185.0300', '2. high': '186.9400', '3. low': '184.2800', '4. close': '185.3200', '5. volume': '21239519'}, '2025-02-10': {'1. open': '187.3500', '2. high': '188.2000', '3. low': '185.8600', '4. close': '186.4700', '5. volume': '23105649'}, '2025-02-07': {'1. open': '191.0500', '2. high': '191.1800', '3. low': '183.2400', '4. close': '185.3400', '5. volume': '49314961'}, '2025-02-06': {'1. open': '189.5000', '2. high': '192.1000', '3. low': '188.7200', '4. close': '191.6000', '5. volume': '29297442'}, '2025-02-05': {'1. open': '191.0700', '2. high': '192.7500', '3. low': '188.0300', '4. close': '191.3300', '5. volume': '70461770'}, '2025-02-04': {'1. open': '203.3900', '2. high': '207.0500', '3. low': '202.8100', '4. close': '206.3800', '5. volume': '43856425'}, '2025-02-03': {'1. open': '200.6900', '2. high': '203.7500', '3. low': '200.1000', '4. close': '201.2300', '5. volume': '27838348'}, '2025-01-31': {'1. open': '202.0000', '2. high': '205.4800', '3. low': '201.8000', '4. close': '204.0200', '5. volume': '32041952'}, '2025-01-30': {'1. open': '198.0000', '2. high': '201.4000', '3. low': '197.6700', '4. close': '200.8700', '5. volume': '24354684'}, '2025-01-29': {'1. open': '195.5550', '2. high': '196.7850', '3. low': '193.4300', '4. close': '195.4100', '5. volume': '18218256'}, '2025-01-28': {'1. open': '192.7450', '2. high': '195.4800', '3. low': '190.6800', '4. close': '195.3000', '5. volume': '24157929'}, '2025-01-27': {'1. open': '192.4100', '2. high': '196.8800', '3. low': '190.7300', '4. close': '191.8100', '5. volume': '41728893'}, '2025-01-24': {'1. open': '198.1000', '2. high': '200.9000', '3. low': '198.0000', '4. close': '200.2100', '5. volume': '23877521'}, '2025-01-23': {'1. open': '198.1400', '2. high': '200.3000', '3. low': '195.2000', '4. close': '197.9800', '5. volume': '26951357'}, '2025-01-22': {'1. open': '199.0600', '2. high': '200.4800', '3. low': '197.5300', '4. close': '198.3700', '5. volume': '26200617'}, '2025-01-21': {'1. open': '199.0700', '2. high': '202.2900', '3. low': '197.8700', '4. close': '198.0500', '5. volume': '29971292'}, '2025-01-17': {'1. open': '196.5300', '2. high': '197.2300', '3. low': '193.7500', '4. close': '196.0000', '5. volume': '27735089'}, '2025-01-16': {'1. open': '194.1400', '2. high': '195.4800', '3. low': '192.8100', '4. close': '192.9100', '5. volume': '17815432'}, '2025-01-15': {'1. open': '193.0900', '2. high': '196.3600', '3. low': '191.8600', '4. close': '195.5500', '5. volume': '21775969'}, '2025-01-14': {'1. open': '191.2400', '2. high': '191.9800', '3. low': '188.3082', '4. close': '189.6600', '5. volume': '17174854'}, '2025-01-13': {'1. open': '190.0700', '2. high': '191.1800', '3. low': '187.3600', '4. close': '191.0100', '5. volume': '21823699'}, '2025-01-10': {'1. open': '194.2950', '2. high': '196.5200', '3. low': '190.3100', '4. close': '192.0400', '5. volume': '26665206'}, '2025-01-08': {'1. open': '192.5700', '2. high': '196.2900', '3. low': '192.3800', '4. close': '193.9500', '5. volume': '24864766'}, '2025-01-07': {'1. open': '197.1100', '2. high': '201.0000', '3. low': '194.6000', '4. close': '195.4900', '5. volume': '26487244'}, '2025-01-06': {'1. open': '193.9800', '2. high': '198.2222', '3. low': '193.8500', '4. close': '196.8700', '5. volume': '29563638'}, '2025-01-03': {'1. open': '191.3700', '2. high': '193.2100', '3. low': '189.9750', '4. close': '191.7900', '5. volume': '18596159'}, '2025-01-02': {'1. open': '190.6500', '2. high': '192.0000', '3. low': '187.5000', '4. close': '189.4300', '5. volume': '20370828'}, '2024-12-31': {'1. open': '191.0750', '2. high': '191.9600', '3. low': '188.5100', '4. close': '189.3000', '5. volume': '17466919'}, '2024-12-30': {'1. open': '189.8000', '2. high': '192.5500', '3. low': '189.1200', '4. close': '191.2400', '5. volume': '14264659'}, '2024-12-27': {'1. open': '194.9500', '2. high': '195.3200', '3. low': '190.6500', '4. close': '192.7600', '5. volume': '18891362'}, '2024-12-26': {'1. open': '195.1500', '2. high': '196.7480', '3. low': '194.3750', '4. close': '195.6000', '5. volume': '12057210'}, '2024-12-24': {'1. open': '194.8400', '2. high': '196.1100', '3. low': '193.7800', '4. close': '196.1100', '5. volume': '10403259'}, '2024-12-23': {'1. open': '192.6200', '2. high': '195.1000', '3. low': '190.1500', '4. close': '194.6300', '5. volume': '25675014'}, '2024-12-20': {'1. open': '185.7800', '2. high': '192.8900', '3. low': '185.2200', '4. close': '191.4100', '5. volume': '63462934'}, '2024-12-19': {'1. open': '191.6250', '2. high': '193.0300', '3. low': '188.3800', '4. close': '188.5100', '5. volume': '32265241'}, '2024-12-18': {'1. open': '195.2200', '2. high': '197.0000', '3. low': '187.7400', '4. close': '188.4000', '5. volume': '34166074'}, '2024-12-17': {'1. open': '197.2500', '2. high': '201.4200', '3. low': '194.9800', '4. close': '195.4200', '5. volume': '43504025'}, '2024-12-16': {'1. open': '192.8700', '2. high': '199.0000', '3. low': '192.6200', '4. close': '196.6600', '5. volume': '44934901'}, '2024-12-13': {'1. open': '191.0100', '2. high': '192.7300', '3. low': '189.6400', '4. close': '189.8200', '5. volume': '25143495'}, '2024-12-12': {'1. open': '195.0000', '2. high': '195.1800', '3. low': '191.7100', '4. close': '191.9600', '5. volume': '34817486'}, '2024-12-11': {'1. open': '185.3100', '2. high': '195.6100', '3. low': '184.8500', '4. close': '195.4000', '5. volume': '67894071'}, '2024-12-10': {'1. open': '182.8450', '2. high': '186.3600', '3. low': '181.0500', '4. close': '185.1700', '5. volume': '54813022'}, '2024-12-09': {'1. open': '173.9600', '2. high': '176.2600', '3. low': '173.6500', '4. close': '175.3700', '5. volume': '25389631'}, '2024-12-06': {'1. open': '172.0300', '2. high': '175.0800', '3. low': '171.8600', '4. close': '174.7100', '5. volume': '21462393'}, '2024-12-05': {'1. open': '175.3600', '2. high': '176.0600', '3. low': '172.3300', '4. close': '172.6400', '5. volume': '21356243'}, '2024-12-04': {'1. open': '171.1450', '2. high': '174.9100', '3. low': '171.0600', '4. close': '174.3700', '5. volume': '31615137'}, '2024-12-03': {'1. open': '171.4900', '2. high': '172.6800', '3. low': '170.8500', '4. close': '171.3400', '5. volume': '22248705'}, '2024-12-02': {'1. open': '168.7650', '2. high': '172.0750', '3. low': '168.5700', '4. close': '171.4900', '5. volume': '23789084'}, '2024-11-29': {'1. open': '168.5000', '2. high': '169.4300', '3. low': '167.1600', '4. close': '168.9500', '5. volume': '14257244'}, '2024-11-27': {'1. open': '169.0000', '2. high': '169.4832', '3. low': '168.0200', '4. close': '169.2300', '5. volume': '19266511'}, '2024-11-26': {'1. open': '167.6300', '2. high': '169.8200', '3. low': '167.5800', '4. close': '169.1200', '5. volume': '20486720'}, '2024-11-25': {'1. open': '166.0900', '2. high': '168.6300', '3. low': '165.6072', '4. close': '167.6500', '5. volume': '33135263'}, '2024-11-22': {'1. open': '165.8500', '2. high': '166.4600', '3. low': '163.9000', '4. close': '164.7600', '5. volume': '38604587'}, '2024-11-21': {'1. open': '173.9000', '2. high': '174.1300', '3. low': '163.7000', '4. close': '167.6300', '5. volume': '59734379'}, '2024-11-20': {'1. open': '177.3400', '2. high': '177.6750', '3. low': '173.7800', '4. close': '175.9800', '5. volume': '18997111'}, '2024-11-19': {'1. open': '173.7200', '2. high': '178.8700', '3. low': '173.5600', '4. close': '178.1200', '5. volume': '23434925'}, '2024-11-18': {'1. open': '173.4200', '2. high': '175.4380', '3. low': '172.9000', '4. close': '175.3000', '5. volume': '20206613'}, '2024-11-15': {'1. open': '173.7300', '2. high': '174.1400', '3. low': '171.2200', '4. close': '172.4900', '5. volume': '32504649'}, '2024-11-14': {'1. open': '178.2800', '2. high': '178.8200', '3. low': '174.3218', '4. close': '175.5800', '5. volume': '31007457'}, '2024-11-13': {'1. open': '180.4600', '2. high': '180.9600', '3. low': '178.5400', '4. close': '178.8800', '5. volume': '23184003'}, '2024-11-12': {'1. open': '179.8200', '2. high': '182.4900', '3. low': '179.3900', '4. close': '181.6200', '5. volume': '25134905'}, '2024-11-11': {'1. open': '178.5800', '2. high': '180.5450', '3. low': '178.4700', '4. close': '180.3500', '5. volume': '17450354'}, '2024-11-08': {'1. open': '180.6450', '2. high': '180.9000', '3. low': '178.0800', '4. close': '178.3500', '5. volume': '22006182'}, '2024-11-07': {'1. open': '177.4100', '2. high': '181.0800', '3. low': '177.1900', '4. close': '180.7500', '5. volume': '25352939'}, '2024-11-06': {'1. open': '173.8000', '2. high': '176.9400', '3. low': '173.5000', '4. close': '176.5100', '5. volume': '33695538'}, '2024-11-05': {'1. open': '169.4300', '2. high': '170.5300', '3. low': '168.8400', '4. close': '169.7400', '5. volume': '18242050'}, '2024-11-04': {'1. open': '169.9300', '2. high': '170.7300', '3. low': '168.0110', '4. close': '169.2400', '5. volume': '21492744'}, '2024-11-01': {'1. open': '170.0700', '2. high': '172.3200', '3. low': '168.8800', '4. close': '171.2900', '5. volume': '31796477'}}}\n{'Meta Data': {'1. Information': 'Daily Prices (open, high, low, close) and Volumes', '2. Symbol': 'AAPL', '3. Last Refreshed': '2025-03-28', '4. Output Size': 'Compact', '5. Time Zone': 'US/Eastern'}, 'Time Series (Daily)': {'2025-03-28': {'1. open': '221.6700', '2. high': '223.8100', '3. low': '217.6800', '4. close': '217.9000', '5. volume': '39637949'}, '2025-03-27': {'1. open': '221.3900', '2. high': '224.9900', '3. low': '220.5601', '4. close': '223.8500', '5. volume': '37094774'}, '2025-03-26': {'1. open': '223.5100', '2. high': '225.0200', '3. low': '220.4700', '4. close': '221.5300', '5. volume': '34532656'}, '2025-03-25': {'1. open': '220.7700', '2. high': '224.1000', '3. low': '220.0800', '4. close': '223.7500', '5. volume': '34493583'}, '2025-03-24': {'1. open': '221.0000', '2. high': '221.4800', '3. low': '218.5800', '4. close': '220.7300', '5. volume': '44299483'}, '2025-03-21': {'1. open': '211.5600', '2. high': '218.8400', '3. low': '211.2800', '4. close': '218.2700', '5. volume': '94127768'}, '2025-03-20': {'1. open': '213.9900', '2. high': '217.4899', '3. low': '212.2200', '4. close': '214.1000', '5. volume': '48862947'}, '2025-03-19': {'1. open': '214.2200', '2. high': '218.7600', '3. low': '213.7500', '4. close': '215.2400', '5. volume': '54385391'}, '2025-03-18': {'1. open': '214.1600', '2. high': '215.1500', '3. low': '211.4900', '4. close': '212.6900', '5. volume': '42432426'}, '2025-03-17': {'1. open': '213.3100', '2. high': '215.2200', '3. low': '209.9700', '4. close': '214.0000', '5. volume': '48073426'}, '2025-03-14': {'1. open': '211.2500', '2. high': '213.9500', '3. low': '209.5800', '4. close': '213.4900', '5. volume': '60107582'}, '2025-03-13': {'1. open': '215.9500', '2. high': '216.8394', '3. low': '208.4200', '4. close': '209.6800', '5. volume': '61368330'}, '2025-03-12': {'1. open': '220.1400', '2. high': '221.7500', '3. low': '214.9100', '4. close': '216.9800', '5. volume': '62547467'}, '2025-03-11': {'1. open': '223.8050', '2. high': '225.8399', '3. low': '217.4500', '4. close': '220.8400', '5. volume': '76137410'}, '2025-03-10': {'1. open': '235.5400', '2. high': '236.1600', '3. low': '224.2200', '4. close': '227.4800', '5. volume': '71451281'}, '2025-03-07': {'1. open': '235.1050', '2. high': '241.3700', '3. low': '234.7600', '4. close': '239.0700', '5. volume': '46273565'}, '2025-03-06': {'1. open': '234.4350', '2. high': '237.8600', '3. low': '233.1581', '4. close': '235.3300', '5. volume': '45170419'}, '2025-03-05': {'1. open': '235.4200', '2. high': '236.5500', '3. low': '229.2300', '4. close': '235.7400', '5. volume': '47227643'}, '2025-03-04': {'1. open': '237.7050', '2. high': '240.0700', '3. low': '234.6800', '4. close': '235.9300', '5. volume': '53798062'}, '2025-03-03': {'1. open': '241.7900', '2. high': '244.0272', '3. low': '236.1120', '4. close': '238.0300', '5. volume': '47183985'}, '2025-02-28': {'1. open': '236.9500', '2. high': '242.0900', '3. low': '230.2000', '4. close': '241.8400', '5. volume': '56833360'}, '2025-02-27': {'1. open': '239.4100', '2. high': '242.4600', '3. low': '237.0600', '4. close': '237.3000', '5. volume': '41153639'}, '2025-02-26': {'1. open': '244.3300', '2. high': '244.9800', '3. low': '239.1300', '4. close': '240.3600', '5. volume': '44433564'}, '2025-02-25': {'1. open': '248.0000', '2. high': '250.0000', '3. low': '244.9100', '4. close': '247.0400', '5. volume': '48013272'}, '2025-02-24': {'1. open': '244.9250', '2. high': '248.8600', '3. low': '244.4200', '4. close': '247.1000', '5. volume': '51326396'}, '2025-02-21': {'1. open': '245.9500', '2. high': '248.6900', '3. low': '245.2200', '4. close': '245.5500', '5. volume': '53197431'}, '2025-02-20': {'1. open': '244.9400', '2. high': '246.7800', '3. low': '244.2900', '4. close': '245.8300', '5. volume': '32316907'}, '2025-02-19': {'1. open': '244.6600', '2. high': '246.0100', '3. low': '243.1604', '4. close': '244.8700', '5. volume': '32204215'}, '2025-02-18': {'1. open': '244.1500', '2. high': '245.1800', '3. low': '241.8400', '4. close': '244.4700', '5. volume': '48822491'}, '2025-02-14': {'1. open': '241.2500', '2. high': '245.5500', '3. low': '240.9900', '4. close': '244.6000', '5. volume': '40896227'}, '2025-02-13': {'1. open': '236.9100', '2. high': '242.3399', '3. low': '235.5700', '4. close': '241.5300', '5. volume': '53614054'}, '2025-02-12': {'1. open': '231.2000', '2. high': '236.9600', '3. low': '230.6800', '4. close': '236.8700', '5. volume': '45243292'}, '2025-02-11': {'1. open': '228.2000', '2. high': '235.2300', '3. low': '228.1300', '4. close': '232.6200', '5. volume': '53718362'}, '2025-02-10': {'1. open': '229.5700', '2. high': '230.5850', '3. low': '227.2000', '4. close': '227.6500', '5. volume': '33115645'}, '2025-02-07': {'1. open': '232.6000', '2. high': '234.0000', '3. low': '227.2600', '4. close': '227.6300', '5. volume': '39707224'}, '2025-02-06': {'1. open': '231.2850', '2. high': '233.8000', '3. low': '230.4250', '4. close': '233.2200', '5. volume': '29925349'}, '2025-02-05': {'1. open': '228.5300', '2. high': '232.6700', '3. low': '228.2700', '4. close': '232.4700', '5. volume': '39664989'}, '2025-02-04': {'1. open': '227.2500', '2. high': '233.1300', '3. low': '226.6500', '4. close': '232.8000', '5. volume': '45067301'}, '2025-02-03': {'1. open': '229.9900', '2. high': '231.8300', '3. low': '225.7000', '4. close': '228.0100', '5. volume': '73063301'}, '2025-01-31': {'1. open': '247.1900', '2. high': '247.1900', '3. low': '233.4400', '4. close': '236.0000', '5. volume': '101075128'}, '2025-01-30': {'1. open': '238.6650', '2. high': '240.7900', '3. low': '237.2100', '4. close': '237.5900', '5. volume': '55658279'}, '2025-01-29': {'1. open': '234.1200', '2. high': '239.8550', '3. low': '234.0100', '4. close': '239.3600', '5. volume': '45486100'}, '2025-01-28': {'1. open': '230.8500', '2. high': '240.1900', '3. low': '230.8100', '4. close': '238.2600', '5. volume': '75707569'}, '2025-01-27': {'1. open': '224.0200', '2. high': '232.1500', '3. low': '223.9800', '4. close': '229.8600', '5. volume': '94863418'}, '2025-01-24': {'1. open': '224.7800', '2. high': '225.6300', '3. low': '221.4100', '4. close': '222.7800', '5. volume': '54697907'}, '2025-01-23': {'1. open': '224.7400', '2. high': '227.0300', '3. low': '222.3000', '4. close': '223.6600', '5. volume': '60234760'}, '2025-01-22': {'1. open': '219.7900', '2. high': '224.1200', '3. low': '219.7900', '4. close': '223.8300', '5. volume': '64126500'}, '2025-01-21': {'1. open': '224.0000', '2. high': '224.4200', '3. low': '219.3800', '4. close': '222.6400', '5. volume': '98070429'}, '2025-01-17': {'1. open': '232.1150', '2. high': '232.2900', '3. low': '228.4800', '4. close': '229.9800', '5. volume': '68488301'}, '2025-01-16': {'1. open': '237.3500', '2. high': '238.0100', '3. low': '228.0300', '4. close': '228.2600', '5. volume': '71759052'}, '2025-01-15': {'1. open': '234.6350', '2. high': '238.9600', '3. low': '234.4300', '4. close': '237.8700', '5. volume': '39831969'}, '2025-01-14': {'1. open': '234.7500', '2. high': '236.1200', '3. low': '232.4720', '4. close': '233.2800', '5. volume': '39435294'}, '2025-01-13': {'1. open': '233.5300', '2. high': '234.6700', '3. low': '229.7200', '4. close': '234.4000', '5. volume': '49630725'}, '2025-01-10': {'1. open': '240.0100', '2. high': '240.1600', '3. low': '233.0000', '4. close': '236.8500', '5. volume': '61710856'}, '2025-01-08': {'1. open': '241.9200', '2. high': '243.7123', '3. low': '240.0500', '4. close': '242.7000', '5. volume': '37628940'}, '2025-01-07': {'1. open': '242.9800', '2. high': '245.5500', '3. low': '241.3500', '4. close': '242.2100', '5. volume': '40855960'}, '2025-01-06': {'1. open': '244.3100', '2. high': '247.3300', '3. low': '243.2000', '4. close': '245.0000', '5. volume': '45045571'}, '2025-01-03': {'1. open': '243.3600', '2. high': '244.1800', '3. low': '241.8900', '4. close': '243.3600', '5. volume': '40244114'}, '2025-01-02': {'1. open': '248.9300', '2. high': '249.1000', '3. low': '241.8201', '4. close': '243.8500', '5. volume': '55740731'}, '2024-12-31': {'1. open': '252.4400', '2. high': '253.2800', '3. low': '249.4300', '4. close': '250.4200', '5. volume': '39480718'}, '2024-12-30': {'1. open': '252.2300', '2. high': '253.5000', '3. low': '250.7500', '4. close': '252.2000', '5. volume': '35557542'}, '2024-12-27': {'1. open': '257.8300', '2. high': '258.7000', '3. low': '253.0600', '4. close': '255.5900', '5. volume': '42355321'}, '2024-12-26': {'1. open': '258.1900', '2. high': '260.1000', '3. low': '257.6300', '4. close': '259.0200', '5. volume': '27262983'}, '2024-12-24': {'1. open': '255.4900', '2. high': '258.2100', '3. low': '255.2900', '4. close': '258.2000', '5. volume': '23234705'}, '2024-12-23': {'1. open': '254.7700', '2. high': '255.6500', '3. low': '253.4500', '4. close': '255.2700', '5. volume': '40858774'}, '2024-12-20': {'1. open': '248.0400', '2. high': '255.0000', '3. low': '245.6900', '4. close': '254.4900', '5. volume': '147495267'}, '2024-12-19': {'1. open': '247.5000', '2. high': '252.0000', '3. low': '247.0949', '4. close': '249.7900', '5. volume': '60882264'}, '2024-12-18': {'1. open': '252.1600', '2. high': '254.2800', '3. low': '247.7400', '4. close': '248.0500', '5. volume': '56774101'}, '2024-12-17': {'1. open': '250.0800', '2. high': '253.8300', '3. low': '249.7800', '4. close': '253.4800', '5. volume': '51356360'}, '2024-12-16': {'1. open': '247.9900', '2. high': '251.3800', '3. low': '247.6500', '4. close': '251.0400', '5. volume': '51694753'}, '2024-12-13': {'1. open': '247.8150', '2. high': '249.2902', '3. low': '246.2400', '4. close': '248.1300', '5. volume': '33155290'}, '2024-12-12': {'1. open': '246.8900', '2. high': '248.7400', '3. low': '245.6800', '4. close': '247.9600', '5. volume': '32777532'}, '2024-12-11': {'1. open': '247.9600', '2. high': '250.8000', '3. low': '246.2601', '4. close': '246.4900', '5. volume': '45205814'}, '2024-12-10': {'1. open': '246.8900', '2. high': '248.2100', '3. low': '245.3400', '4. close': '247.7700', '5. volume': '36914806'}, '2024-12-09': {'1. open': '241.8300', '2. high': '247.2400', '3. low': '241.7500', '4. close': '246.7500', '5. volume': '44649232'}, '2024-12-06': {'1. open': '242.9050', '2. high': '244.6300', '3. low': '242.0800', '4. close': '242.8400', '5. volume': '36870619'}, '2024-12-05': {'1. open': '243.9900', '2. high': '244.5400', '3. low': '242.1300', '4. close': '243.0400', '5. volume': '40033878'}, '2024-12-04': {'1. open': '242.8700', '2. high': '244.1100', '3. low': '241.2500', '4. close': '243.0100', '5. volume': '44383935'}, '2024-12-03': {'1. open': '239.8100', '2. high': '242.7600', '3. low': '238.9000', '4. close': '242.6500', '5. volume': '38861017'}, '2024-12-02': {'1. open': '237.2700', '2. high': '240.7900', '3. low': '237.1600', '4. close': '239.5900', '5. volume': '48137103'}, '2024-11-29': {'1. open': '234.8100', '2. high': '237.8100', '3. low': '233.9700', '4. close': '237.3300', '5. volume': '28481377'}, '2024-11-27': {'1. open': '234.4650', '2. high': '235.6900', '3. low': '233.8101', '4. close': '234.9300', '5. volume': '33498439'}, '2024-11-26': {'1. open': '233.3300', '2. high': '235.5700', '3. low': '233.3300', '4. close': '235.0600', '5. volume': '45986189'}, '2024-11-25': {'1. open': '231.4600', '2. high': '233.2450', '3. low': '229.7400', '4. close': '232.8700', '5. volume': '90152832'}, '2024-11-22': {'1. open': '228.0600', '2. high': '230.7199', '3. low': '\n\n*** WARNING: max output size exceeded, skipping output. ***\n\n25-03-10': {'1. open': '385.8400', '2. high': '386.4000', '3. low': '377.2200', '4. close': '380.1600', '5. volume': '32569768'}, '2025-03-07': {'1. open': '392.3200', '2. high': '394.8000', '3. low': '385.5400', '4. close': '393.3100', '5. volume': '22034087'}, '2025-03-06': {'1. open': '394.2800', '2. high': '402.1500', '3. low': '392.6777', '4. close': '396.8900', '5. volume': '23304625'}, '2025-03-05': {'1. open': '389.3400', '2. high': '401.6700', '3. low': '388.8100', '4. close': '401.0200', '5. volume': '23433132'}, '2025-03-04': {'1. open': '383.4000', '2. high': '392.5800', '3. low': '381.0000', '4. close': '388.6100', '5. volume': '29342923'}, '2025-03-03': {'1. open': '398.8200', '2. high': '398.8200', '3. low': '386.1550', '4. close': '388.4900', '5. volume': '23007726'}, '2025-02-28': {'1. open': '392.6550', '2. high': '397.6300', '3. low': '386.5700', '4. close': '396.9900', '5. volume': '32845658'}, '2025-02-27': {'1. open': '401.2650', '2. high': '405.7400', '3. low': '392.1700', '4. close': '392.5300', '5. volume': '21127406'}, '2025-02-26': {'1. open': '398.0100', '2. high': '403.6000', '3. low': '394.2450', '4. close': '399.7300', '5. volume': '19618954'}, '2025-02-25': {'1. open': '401.1000', '2. high': '401.9150', '3. low': '396.7000', '4. close': '397.9000', '5. volume': '29387402'}, '2025-02-24': {'1. open': '408.5100', '2. high': '409.3700', '3. low': '399.3200', '4. close': '404.0000', '5. volume': '26443656'}, '2025-02-21': {'1. open': '417.3350', '2. high': '418.0480', '3. low': '407.8900', '4. close': '408.2100', '5. volume': '27524799'}, '2025-02-20': {'1. open': '415.2900', '2. high': '419.3100', '3. low': '412.5400', '4. close': '416.1300', '5. volume': '23508728'}, '2025-02-19': {'1. open': '407.8800', '2. high': '415.4900', '3. low': '407.6500', '4. close': '414.7700', '5. volume': '24114197'}, '2025-02-18': {'1. open': '408.0000', '2. high': '410.5970', '3. low': '406.5000', '4. close': '409.6400', '5. volume': '21423051'}, '2025-02-14': {'1. open': '407.7900', '2. high': '408.9100', '3. low': '405.8800', '4. close': '408.4300', '5. volume': '22758464'}, '2025-02-13': {'1. open': '407.0000', '2. high': '411.0000', '3. low': '406.3600', '4. close': '410.5400', '5. volume': '23891731'}, '2025-02-12': {'1. open': '407.2100', '2. high': '410.7500', '3. low': '404.3673', '4. close': '409.0400', '5. volume': '19121734'}, '2025-02-11': {'1. open': '409.6400', '2. high': '412.4900', '3. low': '409.3000', '4. close': '411.4400', '5. volume': '18140592'}, '2025-02-10': {'1. open': '413.7100', '2. high': '415.4624', '3. low': '410.9200', '4. close': '412.2200', '5. volume': '20817919'}, '2025-02-07': {'1. open': '416.4800', '2. high': '418.6500', '3. low': '408.1000', '4. close': '409.7500', '5. volume': '22886844'}, '2025-02-06': {'1. open': '414.0000', '2. high': '418.2000', '3. low': '414.0000', '4. close': '415.8200', '5. volume': '16309755'}, '2025-02-05': {'1. open': '412.3500', '2. high': '413.8270', '3. low': '410.4000', '4. close': '413.2900', '5. volume': '16336188'}, '2025-02-04': {'1. open': '412.6850', '2. high': '413.9199', '3. low': '409.7400', '4. close': '412.3700', '5. volume': '20532096'}, '2025-02-03': {'1. open': '411.6000', '2. high': '415.4100', '3. low': '408.6600', '4. close': '410.9200', '5. volume': '25679149'}, '2025-01-31': {'1. open': '418.9800', '2. high': '420.6900', '3. low': '414.9100', '4. close': '415.0600', '5. volume': '34223388'}, '2025-01-30': {'1. open': '418.7700', '2. high': '422.8600', '3. low': '413.1600', '4. close': '414.9900', '5. volume': '54586260'}, '2025-01-29': {'1. open': '446.6900', '2. high': '446.8800', '3. low': '440.4000', '4. close': '442.3300', '5. volume': '23581370'}, '2025-01-28': {'1. open': '434.6000', '2. high': '448.3800', '3. low': '431.3800', '4. close': '447.2000', '5. volume': '23491703'}, '2025-01-27': {'1. open': '424.0100', '2. high': '435.2000', '3. low': '423.5000', '4. close': '434.5600', '5. volume': '35647805'}, '2025-01-24': {'1. open': '445.1600', '2. high': '446.6500', '3. low': '441.4000', '4. close': '444.0600', '5. volume': '15549453'}, '2025-01-23': {'1. open': '442.0000', '2. high': '446.7500', '3. low': '441.5048', '4. close': '446.7100', '5. volume': '18389270'}, '2025-01-22': {'1. open': '437.5600', '2. high': '447.2700', '3. low': '436.0000', '4. close': '446.2000', '5. volume': '27803811'}, '2025-01-21': {'1. open': '430.2000', '2. high': '430.8999', '3. low': '425.5950', '4. close': '428.5000', '5. volume': '26085703'}, '2025-01-17': {'1. open': '434.0850', '2. high': '434.4800', '3. low': '428.1700', '4. close': '429.0300', '5. volume': '26197507'}, '2025-01-16': {'1. open': '428.6950', '2. high': '429.4900', '3. low': '424.3900', '4. close': '424.5800', '5. volume': '15300023'}, '2025-01-15': {'1. open': '419.1300', '2. high': '428.1500', '3. low': '418.2650', '4. close': '426.3100', '5. volume': '19637838'}, '2025-01-14': {'1. open': '417.8100', '2. high': '419.7400', '3. low': '410.7200', '4. close': '415.6700', '5. volume': '16935856'}, '2025-01-13': {'1. open': '415.2350', '2. high': '418.5000', '3. low': '412.2900', '4. close': '417.1900', '5. volume': '17604780'}, '2025-01-10': {'1. open': '424.6300', '2. high': '424.7100', '3. low': '415.0200', '4. close': '418.9500', '5. volume': '20201132'}, '2025-01-08': {'1. open': '423.4600', '2. high': '426.9700', '3. low': '421.5400', '4. close': '424.5600', '5. volume': '15054575'}, '2025-01-07': {'1. open': '429.0000', '2. high': '430.6500', '3. low': '420.8000', '4. close': '422.3700', '5. volume': '18139065'}, '2025-01-06': {'1. open': '428.0000', '2. high': '434.3200', '3. low': '425.4774', '4. close': '427.8500', '5. volume': '20573648'}, '2025-01-03': {'1. open': '421.0800', '2. high': '424.0300', '3. low': '419.5400', '4. close': '423.3500', '5. volume': '16662943'}, '2025-01-02': {'1. open': '425.5300', '2. high': '426.0700', '3. low': '414.8500', '4. close': '418.5800', '5. volume': '16896469'}, '2024-12-31': {'1. open': '426.1000', '2. high': '426.7300', '3. low': '420.6600', '4. close': '421.5000', '5. volume': '13246509'}, '2024-12-30': {'1. open': '426.0600', '2. high': '427.5500', '3. low': '421.9000', '4. close': '424.8300', '5. volume': '13158703'}, '2024-12-27': {'1. open': '434.6000', '2. high': '435.2200', '3. low': '426.3500', '4. close': '430.5300', '5. volume': '18117713'}, '2024-12-26': {'1. open': '439.0800', '2. high': '440.9400', '3. low': '436.6300', '4. close': '438.1100', '5. volume': '8199927'}, '2024-12-24': {'1. open': '434.6500', '2. high': '439.6000', '3. low': '434.1900', '4. close': '439.3300', '5. volume': '7164543'}, '2024-12-23': {'1. open': '436.7400', '2. high': '437.6500', '3. low': '432.8300', '4. close': '435.2500', '5. volume': '19152519'}, '2024-12-20': {'1. open': '433.1100', '2. high': '443.7400', '3. low': '428.6300', '4. close': '436.6000', '5. volume': '64263694'}, '2024-12-19': {'1. open': '441.6200', '2. high': '443.1834', '3. low': '436.3200', '4. close': '437.0300', '5. volume': '22963681'}, '2024-12-18': {'1. open': '451.3200', '2. high': '452.6500', '3. low': '437.0200', '4. close': '437.3900', '5. volume': '24444545'}, '2024-12-17': {'1. open': '451.0100', '2. high': '455.2900', '3. low': '449.5700', '4. close': '454.4600', '5. volume': '22733494'}, '2024-12-16': {'1. open': '447.2700', '2. high': '452.1800', '3. low': '445.2800', '4. close': '451.5900', '5. volume': '23598834'}, '2024-12-13': {'1. open': '448.4350', '2. high': '451.4300', '3. low': '445.5800', '4. close': '447.2700', '5. volume': '20177833'}, '2024-12-12': {'1. open': '449.1100', '2. high': '456.1648', '3. low': '449.1100', '4. close': '449.5600', '5. volume': '20834779'}, '2024-12-11': {'1. open': '444.0500', '2. high': '450.3500', '3. low': '444.0500', '4. close': '448.9900', '5. volume': '19200208'}, '2024-12-10': {'1. open': '444.3900', '2. high': '449.6200', '3. low': '441.6000', '4. close': '443.3300', '5. volume': '18469459'}, '2024-12-09': {'1. open': '442.6000', '2. high': '448.3300', '3. low': '440.5000', '4. close': '446.0200', '5. volume': '19144388'}, '2024-12-06': {'1. open': '442.3000', '2. high': '446.1000', '3. low': '441.7703', '4. close': '443.5700', '5. volume': '18821002'}, '2024-12-05': {'1. open': '437.9200', '2. high': '444.6600', '3. low': '436.1710', '4. close': '442.6200', '5. volume': '21697775'}, '2024-12-04': {'1. open': '433.0300', '2. high': '439.6700', '3. low': '432.6300', '4. close': '437.4200', '5. volume': '26009429'}, '2024-12-03': {'1. open': '429.8400', '2. high': '432.4700', '3. low': '427.7400', '4. close': '431.2000', '5. volume': '18301987'}, '2024-12-02': {'1. open': '421.5700', '2. high': '433.0000', '3. low': '421.3100', '4. close': '430.9800', '5. volume': '20207223'}, '2024-11-29': {'1. open': '420.0900', '2. high': '424.8800', '3. low': '417.8000', '4. close': '423.4600', '5. volume': '16271921'}, '2024-11-27': {'1. open': '425.1050', '2. high': '427.2299', '3. low': '422.0200', '4. close': '422.9900', '5. volume': '18332444'}, '2024-11-26': {'1. open': '419.5850', '2. high': '429.0414', '3. low': '418.8500', '4. close': '427.9900', '5. volume': '23458889'}, '2024-11-25': {'1. open': '418.3800', '2. high': '421.0800', '3. low': '414.8500', '4. close': '418.7900', '5. volume': '27691090'}, '2024-11-22': {'1. open': '411.3650', '2. high': '417.4000', '3. low': '411.0600', '4. close': '417.0000', '5. volume': '24814626'}, '2024-11-21': {'1. open': '419.5000', '2. high': '419.7800', '3. low': '410.2887', '4. close': '412.8700', '5. volume': '20780162'}, '2024-11-20': {'1. open': '416.8700', '2. high': '417.2900', '3. low': '410.5800', '4. close': '415.4900', '5. volume': '19191655'}, '2024-11-19': {'1. open': '413.1100', '2. high': '417.9400', '3. low': '411.5500', '4. close': '417.7900', '5. volume': '18133529'}, '2024-11-18': {'1. open': '414.8700', '2. high': '418.4037', '3. low': '412.1000', '4. close': '415.7600', '5. volume': '24742013'}, '2024-11-15': {'1. open': '419.8200', '2. high': '422.8000', '3. low': '413.6400', '4. close': '415.0000', '5. volume': '28247644'}, '2024-11-14': {'1. open': '425.0000', '2. high': '428.1700', '3. low': '420.0000', '4. close': '426.8900', '5. volume': '30246881'}, '2024-11-13': {'1. open': '421.6400', '2. high': '429.3250', '3. low': '418.2100', '4. close': '425.2000', '5. volume': '21502185'}, '2024-11-12': {'1. open': '418.2500', '2. high': '424.4400', '3. low': '417.2000', '4. close': '423.0300', '5. volume': '19401204'}, '2024-11-11': {'1. open': '422.5150', '2. high': '424.8100', '3. low': '416.0000', '4. close': '418.0100', '5. volume': '24503321'}, '2024-11-08': {'1. open': '425.3200', '2. high': '426.5000', '3. low': '421.7800', '4. close': '422.5400', '5. volume': '16891414'}, '2024-11-07': {'1. open': '421.2800', '2. high': '426.8500', '3. low': '419.8800', '4. close': '425.4300', '5. volume': '19901782'}, '2024-11-06': {'1. open': '412.4200', '2. high': '420.4500', '3. low': '410.5200', '4. close': '420.1800', '5. volume': '26681842'}, '2024-11-05': {'1. open': '408.3700', '2. high': '414.9000', '3. low': '408.0800', '4. close': '411.4600', '5. volume': '17626011'}, '2024-11-04': {'1. open': '409.8000', '2. high': '410.4150', '3. low': '405.5713', '4. close': '408.4600', '5. volume': '19672286'}, '2024-11-01': {'1. open': '409.0100', '2. high': '415.5000', '3. low': '407.5000', '4. close': '410.3700', '5. volume': '24230442'}}}\n{'Meta Data': {'1. Information': 'Daily Prices (open, high, low, close) and Volumes', '2. Symbol': 'TSLA', '3. Last Refreshed': '2025-03-28', '4. Output Size': 'Compact', '5. Time Zone': 'US/Eastern'}, 'Time Series (Daily)': {'2025-03-28': {'1. open': '275.5750', '2. high': '276.1000', '3. low': '260.5700', '4. close': '263.5500', '5. volume': '122578069'}, '2025-03-27': {'1. open': '272.4800', '2. high': '291.8500', '3. low': '271.8216', '4. close': '273.1300', '5. volume': '162572146'}, '2025-03-26': {'1. open': '282.6600', '2. high': '284.9000', '3. low': '266.5100', '4. close': '272.0600', '5. volume': '156254441'}, '2025-03-25': {'1. open': '283.6000', '2. high': '288.2000', '3. low': '271.2800', '4. close': '288.1400', '5. volume': '150361538'}, '2025-03-24': {'1. open': '258.0750', '2. high': '278.6400', '3. low': '256.3300', '4. close': '278.3900', '5. volume': '169079865'}, '2025-03-21': {'1. open': '234.9850', '2. high': '249.5200', '3. low': '234.5500', '4. close': '248.7100', '5. volume': '132728684'}, '2025-03-20': {'1. open': '233.3450', '2. high': '238.0000', '3. low': '230.0501', '4. close': '236.2600', '5. volume': '99028270'}, '2025-03-19': {'1. open': '231.6100', '2. high': '241.4100', '3. low': '229.2010', '4. close': '235.8600', '5. volume': '111993753'}, '2025-03-18': {'1. open': '228.1550', '2. high': '230.1000', '3. low': '222.2800', '4. close': '225.3100', '5. volume': '111477636'}, '2025-03-17': {'1. open': '245.0550', '2. high': '245.4000', '3. low': '232.8000', '4. close': '238.0100', '5. volume': '111900565'}, '2025-03-14': {'1. open': '247.3100', '2. high': '251.5800', '3. low': '240.7300', '4. close': '249.9800', '5. volume': '100242264'}, '2025-03-13': {'1. open': '248.1250', '2. high': '248.2900', '3. low': '232.6000', '4. close': '240.6800', '5. volume': '114813525'}, '2025-03-12': {'1. open': '247.2200', '2. high': '251.8400', '3. low': '241.1000', '4. close': '248.0900', '5. volume': '142215681'}, '2025-03-11': {'1. open': '225.3050', '2. high': '237.0649', '3. low': '217.0200', '4. close': '230.5800', '5. volume': '174896415'}, '2025-03-10': {'1. open': '252.5400', '2. high': '253.3700', '3. low': '220.0000', '4. close': '222.1500', '5. volume': '185037825'}, '2025-03-07': {'1. open': '259.3200', '2. high': '266.2499', '3. low': '250.7300', '4. close': '262.6700', '5. volume': '102369640'}, '2025-03-06': {'1. open': '272.0600', '2. high': '272.6500', '3. low': '260.0200', '4. close': '263.4500', '5. volume': '98451566'}, '2025-03-05': {'1. open': '272.9200', '2. high': '279.5500', '3. low': '267.7100', '4. close': '279.1000', '5. volume': '94042913'}, '2025-03-04': {'1. open': '270.9300', '2. high': '284.3500', '3. low': '261.8401', '4. close': '272.0400', '5. volume': '126706623'}, '2025-03-03': {'1. open': '300.3400', '2. high': '303.9400', '3. low': '277.3000', '4. close': '284.6500', '5. volume': '115551414'}, '2025-02-28': {'1. open': '279.5000', '2. high': '293.8800', '3. low': '273.6000', '4. close': '292.9800', '5. volume': '115696968'}, '2025-02-27': {'1. open': '291.1600', '2. high': '297.2300', '3. low': '280.8800', '4. close': '281.9500', '5. volume': '101748197'}, '2025-02-26': {'1. open': '303.7150', '2. high': '309.0000', '3. low': '288.0400', '4. close': '290.8000', '5. volume': '100118276'}, '2025-02-25': {'1. open': '327.0250', '2. high': '328.8900', '3. low': '297.2512', '4. close': '302.8000', '5. volume': '134228777'}, '2025-02-24': {'1. open': '338.1400', '2. high': '342.3973', '3. low': '324.7000', '4. close': '330.5300', '5. volume': '76052321'}, '2025-02-21': {'1. open': '353.4400', '2. high': '354.9800', '3. low': '334.4200', '4. close': '337.8000', '5. volume': '74058648'}, '2025-02-20': {'1. open': '361.5100', '2. high': '362.3000', '3. low': '348.0000', '4. close': '354.4000', '5. volume': '45965354'}, '2025-02-19': {'1. open': '354.0000', '2. high': '367.3400', '3. low': '353.6700', '4. close': '360.5600', '5. volume': '67094374'}, '2025-02-18': {'1. open': '355.0100', '2. high': '359.1000', '3. low': '350.0200', '4. close': '354.1100', '5. volume': '51631702'}, '2025-02-14': {'1. open': '360.6200', '2. high': '362.0000', '3. low': '347.5000', '4. close': '355.8400', '5. volume': '68277279'}, '2025-02-13': {'1. open': '345.0000', '2. high': '358.6900', '3. low': '342.8500', '4. close': '355.9400', '5. volume': '89441519'}, '2025-02-12': {'1. open': '329.9400', '2. high': '346.4000', '3. low': '329.1200', '4. close': '336.5100', '5. volume': '105382729'}, '2025-02-11': {'1. open': '345.8000', '2. high': '349.3700', '3. low': '325.1000', '4. close': '328.5000', '5. volume': '118543400'}, '2025-02-10': {'1. open': '356.2100', '2. high': '362.7000', '3. low': '350.5100', '4. close': '350.7300', '5. volume': '77514903'}, '2025-02-07': {'1. open': '370.1900', '2. high': '380.5459', '3. low': '360.3400', '4. close': '361.6200', '5. volume': '70298258'}, '2025-02-06': {'1. open': '373.0300', '2. high': '375.4000', '3. low': '363.1800', '4. close': '374.3200', '5. volume': '77918230'}, '2025-02-05': {'1. open': '387.5100', '2. high': '388.3900', '3. low': '375.5300', '4. close': '378.1700', '5. volume': '57614721'}, '2025-02-04': {'1. open': '382.6300', '2. high': '394.0000', '3. low': '381.4000', '4. close': '392.2100', '5. volume': '57072235'}, '2025-02-03': {'1. open': '386.6800', '2. high': '389.1700', '3. low': '374.3600', '4. close': '383.6800', '5. volume': '93732122'}, '2025-01-31': {'1. open': '401.5300', '2. high': '419.9900', '3. low': '401.3400', '4. close': '404.6000', '5. volume': '83568219'}, '2025-01-30': {'1. open': '410.7800', '2. high': '412.5000', '3. low': '384.4100', '4. close': '400.2800', '5. volume': '98092879'}, '2025-01-29': {'1. open': '395.2100', '2. high': '398.5899', '3. low': '384.4800', '4. close': '389.1000', '5. volume': '68033648'}, '2025-01-28': {'1. open': '396.9100', '2. high': '400.5900', '3. low': '386.5000', '4. close': '398.0900', '5. volume': '48910676'}, '2025-01-27': {'1. open': '394.8000', '2. high': '406.6900', '3. low': '389.0000', '4. close': '397.1500', '5. volume': '58125510'}, '2025-01-24': {'1. open': '414.4500', '2. high': '418.8800', '3. low': '405.7800', '4. close': '406.5800', '5. volume': '56427149'}, '2025-01-23': {'1. open': '416.0600', '2. high': '420.7300', '3. low': '408.9500', '4. close': '412.3800', '5. volume': '50690592'}, '2025-01-22': {'1. open': '416.8100', '2. high': '428.0000', '3. low': '414.5900', '4. close': '415.1100', '5. volume': '60963342'}, '2025-01-21': {'1. open': '432.6400', '2. high': '433.2000', '3. low': '406.3100', '4. close': '424.0700', '5. volume': '87320894'}, '2025-01-17': {'1. open': '421.5000', '2. high': '439.7400', '3. low': '419.7500', '4. close': '426.5000', '5. volume': '94991429'}, '2025-01-16': {'1. open': '423.4900', '2. high': '424.0000', '3. low': '409.1300', '4. close': '413.8200', '5. volume': '68335151'}, '2025-01-15': {'1. open': '409.9000', '2. high': '429.8000', '3. low': '405.6610', '4. close': '428.2200', '5. volume': '81375460'}, '2025-01-14': {'1. open': '414.3400', '2. high': '422.6400', '3. low': '394.5400', '4. close': '396.3600', '5. volume': '84565022'}, '2025-01-13': {'1. open': '383.2100', '2. high': '403.7900', '3. low': '380.0700', '4. close': '403.3100', '5. volume': '67580494'}, '2025-01-10': {'1. open': '391.4000', '2. high': '399.2800', '3. low': '377.2900', '4. close': '394.7400', '5. volume': '62287333'}, '2025-01-08': {'1. open': '392.9500', '2. high': '402.4999', '3. low': '387.4000', '4. close': '394.9400', '5. volume': '73038805'}, '2025-01-07': {'1. open': '405.8300', '2. high': '414.3300', '3. low': '390.0000', '4. close': '394.3600', '5. volume': '75699525'}, '2025-01-06': {'1. open': '423.2000', '2. high': '426.4300', '3. low': '401.7000', '4. close': '411.0500', '5. volume': '85516534'}, '2025-01-03': {'1. open': '381.4800', '2. high': '411.8799', '3. low': '379.4500', '4. close': '410.4400', '5. volume': '95423329'}, '2025-01-02': {'1. open': '390.1000', '2. high': '392.7299', '3. low': '373.0400', '4. close': '379.2800', '5. volume': '109710749'}, '2024-12-31': {'1. open': '423.7900', '2. high': '427.9300', '3. low': '402.5400', '4. close': '403.8400', '5. volume': '76825121'}, '2024-12-30': {'1. open': '419.4000', '2. high': '427.0000', '3. low': '415.7500', '4. close': '417.4100', '5. volume': '64941012'}, '2024-12-27': {'1. open': '449.5200', '2. high': '450.0000', '3. low': '426.5000', '4. close': '431.6600', '5. volume': '82666821'}, '2024-12-26': {'1. open': '465.1600', '2. high': '465.3299', '3. low': '451.0200', '4. close': '454.1300', '5. volume': '76651210'}, '2024-12-24': {'1. open': '435.9000', '2. high': '462.7800', '3. low': '435.1400', '4. close': '462.2800', '5. volume': '59551750'}, '2024-12-23': {'1. open': '431.0000', '2. high': '434.5100', '3. low': '415.4112', '4. close': '430.6000', '5. volume': '72698055'}, '2024-12-20': {'1. open': '425.5050', '2. high': '447.0800', '3. low': '417.6400', '4. close': '421.0600', '5. volume': '132216176'}, '2024-12-19': {'1. open': '451.8800', '2. high': '456.3600', '3. low': '420.0200', '4. close': '436.1700', '5. volume': '118566146'}, '2024-12-18': {'1. open': '466.4950', '2. high': '488.5399', '3. low': '427.0100', '4. close': '440.1300', '5. volume': '149340788'}, '2024-12-17': {'1. open': '475.9000', '2. high': '483.9900', '3. low': '457.5101', '4. close': '479.8600', '5. volume': '131222978'}, '2024-12-16': {'1. open': '441.0900', '2. high': '463.1900', '3. low': '436.1500', '4. close': '463.0200', '5. volume': '114083811'}, '2024-12-13': {'1. open': '420.0000', '2. high': '436.3000', '3. low': '415.7100', '4. close': '436.2300', '5. volume': '89000158'}, '2024-12-12': {'1. open': '424.8400', '2. high': '429.3000', '3. low': '415.0000', '4. close': '418.1000', '5. volume': '87752225'}, '2024-12-11': {'1. open': '409.7000', '2. high': '424.8800', '3. low': '402.3800', '4. close': '424.7700', '5. volume': '104287559'}, '2024-12-10': {'1. open': '392.6800', '2. high': '409.7300', '3. low': '390.8500', '4. close': '400.9900', '5. volume': '97563578'}, '2024-12-09': {'1. open': '397.6100', '2. high': '404.8000', '3. low': '378.0100', '4. close': '389.7900', '5. volume': '96359173'}, '2024-12-06': {'1. open': '377.4200', '2. high': '389.4900', '3. low': '370.8000', '4. close': '389.2200', '5. volume': '81455834'}, '2024-12-05': {'1. open': '359.8700', '2. high': '375.4300', '3. low': '359.5000', '4. close': '369.4900', '5. volume': '81403569'}, '2024-12-04': {'1. open': '353.0000', '2. high': '358.1000', '3. low': '348.6000', '4. close': '357.9300', '5. volume': '50810874'}, '2024-12-03': {'1. open': '351.8000', '2. high': '355.6900', '3. low': '348.2000', '4. close': '351.4200', '5. volume': '58267196'}, '2024-12-02': {'1. open': '352.3800', '2. high': '360.0000', '3. low': '351.1501', '4. close': '357.0900', '5. volume': '77986478'}, '2024-11-29': {'1. open': '336.0800', '2. high': '345.4500', '3. low': '334.6500', '4. close': '345.1600', '5. volume': '37167621'}, '2024-11-27': {'1. open': '341.8000', '2. high': '342.5500', '3. low': '326.5900', '4. close': '332.8900', '5. volume': '57896439'}, '2024-11-26': {'1. open': '341.0000', '2. high': '346.9600', '3. low': '335.6600', '4. close': '338.2300', '5. volume': '62295857'}, '2024-11-25': {'1. open': '360.1400', '2. high': '361.9300', '3. low': '338.2000', '4. close': '338.5900', '5. volume': '95890899'}, '2024-11-22': {'1. open': '341.0850', '2. high': '361.5300', '3. low': '337.7000', '4. close': '352.5600', '5. volume': '89140722'}, '2024-11-21': {'1. open': '343.8100', '2. high': '347.9899', '3. low': '335.2800', '4. close': '339.6400', '5. volume': '58011719'}, '2024-11-20': {'1. open': '345.0000', '2. high': '346.5999', '3. low': '334.3000', '4. close': '342.0300', '5. volume': '66340650'}, '2024-11-19': {'1. open': '335.7600', '2. high': '347.3799', '3. low': '332.7500', '4. close': '346.0000', '5. volume': '88852452'}, '2024-11-18': {'1. open': '340.7300', '2. high': '348.5499', '3. low': '330.0100', '4. close': '338.7400', '5. volume': '126547455'}, '2024-11-15': {'1. open': '310.5700', '2. high': '324.6799', '3. low': '309.2200', '4. close': '320.7200', '5. volume': '114440286'}, '2024-11-14': {'1. open': '327.6900', '2. high': '329.9800', '3. low': '310.3700', '4. close': '311.1800', '5. volume': '120726109'}, '2024-11-13': {'1. open': '335.8500', '2. high': '344.5999', '3. low': '322.5000', '4. close': '330.2400', '5. volume': '125405599'}, '2024-11-12': {'1. open': '342.7400', '2. high': '345.8400', '3. low': '323.3100', '4. close': '328.4900', '5. volume': '155726016'}, '2024-11-11': {'1. open': '346.3000', '2. high': '358.6400', '3. low': '336.0000', '4. close': '350.0000', '5. volume': '210521625'}, '2024-11-08': {'1. open': '299.1400', '2. high': '328.7100', '3. low': '297.6600', '4. close': '321.2200', '5. volume': '204782763'}, '2024-11-07': {'1. open': '288.8900', '2. high': '299.7500', '3. low': '285.5200', '4. close': '296.9100', '5. volume': '117309232'}, '2024-11-06': {'1. open': '284.6700', '2. high': '289.5900', '3. low': '275.6200', '4. close': '288.5300', '5. volume': '165228710'}, '2024-11-05': {'1. open': '247.3400', '2. high': '255.2799', '3. low': '246.2101', '4. close': '251.4400', '5. volume': '69282505'}, '2024-11-04': {'1. open': '244.5600', '2. high': '248.9000', '3. low': '238.8800', '4. close': '242.8400', '5. volume': '68802354'}, '2024-11-01': {'1. open': '252.0430', '2. high': '254.0000', '3. low': '246.6300', '4. close': '248.9800', '5. volume': '57544757'}}}\n"
     ]
    }
   ],
   "source": [
    "# Write your solution here\n",
    "\n",
    "import requests\n",
    "from pyspark.sql import SparkSession\n",
    "from pyspark.sql.functions import col, weekofyear, max as max_col, to_date\n",
    "\n",
    "# Initialize Spark\n",
    "spark = SparkSession.builder.appName(\"StockETL\").getOrCreate()\n",
    "\n",
    "# API details\n",
    "url = \"https://alpha-vantage.p.rapidapi.com/query\"\n",
    "headers = {\n",
    "    \"X-RapidAPI-Host\": \"alpha-vantage.p.rapidapi.com\",\n",
    "    \"X-RapidAPI-Key\": \"65ed148c98mshe28b33adb9a585fp1bb3cbjsn51b126947fb7\"\n",
    "}\n",
    "\n",
    "# List of companies\n",
    "companies = [\"GOOGL\", \"AAPL\", \"MSFT\", \"TSLA\"]\n",
    "\n",
    "# Extract and transform\n",
    "all_data = []\n",
    "for company in companies:\n",
    "    querystring = {\"function\": \"TIME_SERIES_DAILY\", \"symbol\": company, \"datatype\": \"json\", \"outputsize\": \"compact\"}\n",
    "    response = requests.get(url, headers=headers, params=querystring).json()\n",
    "    print(response) \n",
    "    daily_data = response['Time Series (Daily)']\n",
    "    df = spark.createDataFrame([\n",
    "        (company, date, float(values['4. close']))\n",
    "        for date, values in daily_data.items()\n",
    "    ], [\"company\", \"date\", \"closing_price\"])\n",
    "    all_data.append(df)\n",
    "\n",
    "# Combine data\n",
    "combined_df = all_data[0]\n",
    "for df in all_data[1:]:\n",
    "    combined_df = combined_df.union(df)\n",
    "\n",
    "# Add week column and calculate max closing price\n",
    "weekly_max_df = combined_df.withColumn(\"week\", weekofyear(to_date(col(\"date\")))) \\\n",
    "    .groupBy(\"company\", \"week\").agg(max_col(\"closing_price\").alias(\"max_closing_price\"))\n",
    "\n",
    "# Load to Delta table\n",
    "weekly_max_df.write \\\n",
    "    .partitionBy(\"company\") \\\n",
    "    .format(\"delta\") \\\n",
    "    .mode(\"overwrite\") \\\n",
    "    .saveAsTable(\"max_closing_price_weekly\")\n"
   ]
  },
  {
   "cell_type": "markdown",
   "metadata": {
    "application/vnd.databricks.v1+cell": {
     "cellMetadata": {},
     "inputWidgets": {},
     "nuid": "37f98592-1f5f-4b42-9350-6720e69a7c22",
     "showTitle": false,
     "tableResultSettingsMap": {},
     "title": ""
    }
   },
   "source": [
    "## ETL Job Four: RDBMS\n",
    "\n",
    "\n",
    "### Extract\n",
    "Extract RNA data from a public PostgreSQL database.\n",
    "\n",
    "- https://rnacentral.org/help/public-database\n",
    "- Extract 100 RNA records from the `rna` table (hint: use `limit` in your sql)\n",
    "- hint: use `spark.read.jdbc` https://docs.databricks.com/external-data/jdbc.html\n",
    "\n",
    "### Transform\n",
    "We want to load the data as it so there is no transformation required.\n",
    "\n",
    "\n",
    "### Load\n",
    "Load the DF in to a managed table called, `rna_100_records`"
   ]
  },
  {
   "cell_type": "code",
   "execution_count": 0,
   "metadata": {
    "application/vnd.databricks.v1+cell": {
     "cellMetadata": {
      "byteLimit": 2048000,
      "rowLimit": 10000
     },
     "inputWidgets": {},
     "nuid": "3011d775-d108-4cb0-85d1-bf21ae1c23d4",
     "showTitle": false,
     "tableResultSettingsMap": {},
     "title": ""
    }
   },
   "outputs": [],
   "source": [
    "# Write your solution here\n",
    "# Extract\n",
    "jdbc_url = \"jdbc:postgresql://hh-pgsql-public.ebi.ac.uk:5432/pfmegrnargs\"\n",
    "properties = {\n",
    "    \"user\": \"reader\",\n",
    "    \"password\": \"NWDMCE5xdipIjRrp\",\n",
    "    \"driver\": \"org.postgresql.Driver\"\n",
    "}\n",
    "\n",
    "query = \"(SELECT * FROM rna LIMIT 100) AS rna_data\"\n",
    "rna_df = spark.read.jdbc(url=jdbc_url, table=query, properties=properties)\n",
    "\n",
    "# Load\n",
    "rna_df.write \\\n",
    "    .format(\"delta\") \\\n",
    "    .mode(\"overwrite\") \\\n",
    "    .saveAsTable(\"rna_100_records\")\n",
    "\n"
   ]
  }
 ],
 "metadata": {
  "application/vnd.databricks.v1+notebook": {
   "computePreferences": null,
   "dashboards": [],
   "environmentMetadata": null,
   "inputWidgetPreferences": null,
   "language": "python",
   "notebookMetadata": {
    "pythonIndentUnit": 4
   },
   "notebookName": "2 - Spark ETL Jobs Exercieses",
   "widgets": {}
  }
 },
 "nbformat": 4,
 "nbformat_minor": 0
}