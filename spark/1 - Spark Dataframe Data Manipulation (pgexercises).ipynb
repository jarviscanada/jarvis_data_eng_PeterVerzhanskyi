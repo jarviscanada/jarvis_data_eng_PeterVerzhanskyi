{
 "cells": [
  {
   "cell_type": "markdown",
   "metadata": {
    "application/vnd.databricks.v1+cell": {
     "cellMetadata": {
      "byteLimit": 2048000,
      "rowLimit": 10000
     },
     "inputWidgets": {},
     "nuid": "53193039-ba28-4c23-92e7-d4109013bb0c",
     "showTitle": false,
     "tableResultSettingsMap": {},
     "title": ""
    }
   },
   "source": [
    "# Learning Objectives\n",
    "In this notebook, you will learn Spark Dataframe APIs.\n",
    "\n",
    "# Question List\n",
    "\n",
    "Solve the following questions using Spark Dataframe APIs\n",
    "\n",
    "### Join\n",
    "\n",
    "1. easy - https://pgexercises.com/questions/joins/simplejoin.html\n",
    "2. easy - https://pgexercises.com/questions/joins/simplejoin2.html\n",
    "3. easy - https://pgexercises.com/questions/joins/self2.html \n",
    "4. medium - https://pgexercises.com/questions/joins/threejoin.html (three join)\n",
    "5. medium - https://pgexercises.com/questions/joins/sub.html (subquery and join)\n",
    "\n",
    "### Aggregation\n",
    "\n",
    "1. easy - https://pgexercises.com/questions/aggregates/count3.html Group by order by\n",
    "2. easy - https://pgexercises.com/questions/aggregates/fachours.html group by order by\n",
    "3. easy - https://pgexercises.com/questions/aggregates/fachoursbymonth.html group by with condition \n",
    "4. easy - https://pgexercises.com/questions/aggregates/fachoursbymonth2.html group by multi col\n",
    "5. easy - https://pgexercises.com/questions/aggregates/members1.html count distinct\n",
    "6. med - https://pgexercises.com/questions/aggregates/nbooking.html group by multiple cols, join\n",
    "\n",
    "### String & Date\n",
    "\n",
    "1. easy - https://pgexercises.com/questions/string/concat.html format string\n",
    "2. easy - https://pgexercises.com/questions/string/case.html WHERE + string function\n",
    "3. easy - https://pgexercises.com/questions/string/reg.html WHERE + string function\n",
    "4. easy - https://pgexercises.com/questions/string/substr.html group by, substr\n",
    "5. easy - https://pgexercises.com/questions/date/series.html generate ts\n",
    "6. easy - https://pgexercises.com/questions/date/bookingspermonth.html extract month from ts"
   ]
  },
  {
   "cell_type": "markdown",
   "metadata": {
    "application/vnd.databricks.v1+cell": {
     "cellMetadata": {
      "byteLimit": 2048000,
      "rowLimit": 10000
     },
     "inputWidgets": {},
     "nuid": "5af8ed8a-34dc-4766-a62b-cdc1dfd2ec41",
     "showTitle": false,
     "tableResultSettingsMap": {},
     "title": ""
    }
   },
   "source": [
    "### Question\n",
    "\n",
    "How can you produce a list of the start times for bookings by members named 'David Farrell'?\n",
    "\n",
    "https://pgexercises.com/questions/joins/simplejoin.html"
   ]
  },
  {
   "cell_type": "code",
   "execution_count": 0,
   "metadata": {
    "application/vnd.databricks.v1+cell": {
     "cellMetadata": {
      "byteLimit": 2048000,
      "rowLimit": 10000
     },
     "inputWidgets": {},
     "nuid": "cd26e494-0ac0-4d54-b463-563b18d5d371",
     "showTitle": false,
     "tableResultSettingsMap": {},
     "title": ""
    }
   },
   "outputs": [],
   "source": [
    "# Write you solution here\n",
    "# hint: you might need to re-run `0 - ETL pgexercieses CSV files` notebook to init tables\n",
    "\n",
    "df = spark.sql(\"select * from bookings\")\n",
    "# display(df)"
   ]
  },
  {
   "cell_type": "code",
   "execution_count": 0,
   "metadata": {
    "application/vnd.databricks.v1+cell": {
     "cellMetadata": {
      "byteLimit": 2048000,
      "rowLimit": 10000
     },
     "inputWidgets": {},
     "nuid": "4efed52b-6f23-44c6-a92c-e69a0552914e",
     "showTitle": false,
     "tableResultSettingsMap": {},
     "title": ""
    }
   },
   "outputs": [
    {
     "output_type": "display_data",
     "data": {
      "text/html": [
       "<style scoped>\n",
       "  .table-result-container {\n",
       "    max-height: 300px;\n",
       "    overflow: auto;\n",
       "  }\n",
       "  table, th, td {\n",
       "    border: 1px solid black;\n",
       "    border-collapse: collapse;\n",
       "  }\n",
       "  th, td {\n",
       "    padding: 5px;\n",
       "  }\n",
       "  th {\n",
       "    text-align: left;\n",
       "  }\n",
       "</style><div class='table-result-container'><table class='table-result'><thead style='background-color: white'><tr><th>starttime</th></tr></thead><tbody><tr><td>2012-09-18T09:00:00.000+0000</td></tr><tr><td>2012-09-18T17:30:00.000+0000</td></tr><tr><td>2012-09-18T13:30:00.000+0000</td></tr><tr><td>2012-09-18T20:00:00.000+0000</td></tr><tr><td>2012-09-19T09:30:00.000+0000</td></tr><tr><td>2012-09-19T15:00:00.000+0000</td></tr><tr><td>2012-09-19T12:00:00.000+0000</td></tr><tr><td>2012-09-20T15:30:00.000+0000</td></tr><tr><td>2012-09-20T11:30:00.000+0000</td></tr><tr><td>2012-09-20T14:00:00.000+0000</td></tr><tr><td>2012-09-21T10:30:00.000+0000</td></tr><tr><td>2012-09-21T14:00:00.000+0000</td></tr><tr><td>2012-09-22T08:30:00.000+0000</td></tr><tr><td>2012-09-22T17:00:00.000+0000</td></tr><tr><td>2012-09-23T08:30:00.000+0000</td></tr><tr><td>2012-09-23T17:30:00.000+0000</td></tr><tr><td>2012-09-23T19:00:00.000+0000</td></tr><tr><td>2012-09-24T08:00:00.000+0000</td></tr><tr><td>2012-09-24T16:30:00.000+0000</td></tr><tr><td>2012-09-24T12:30:00.000+0000</td></tr><tr><td>2012-09-25T15:30:00.000+0000</td></tr><tr><td>2012-09-25T17:00:00.000+0000</td></tr><tr><td>2012-09-26T13:00:00.000+0000</td></tr><tr><td>2012-09-26T17:00:00.000+0000</td></tr><tr><td>2012-09-27T08:00:00.000+0000</td></tr><tr><td>2012-09-28T11:30:00.000+0000</td></tr><tr><td>2012-09-28T09:30:00.000+0000</td></tr><tr><td>2012-09-28T13:00:00.000+0000</td></tr><tr><td>2012-09-29T16:00:00.000+0000</td></tr><tr><td>2012-09-29T10:30:00.000+0000</td></tr><tr><td>2012-09-29T13:30:00.000+0000</td></tr><tr><td>2012-09-29T14:30:00.000+0000</td></tr><tr><td>2012-09-29T17:30:00.000+0000</td></tr><tr><td>2012-09-30T14:30:00.000+0000</td></tr></tbody></table></div>"
      ]
     },
     "metadata": {
      "application/vnd.databricks.v1+output": {
       "addedWidgets": {},
       "aggData": [],
       "aggError": "",
       "aggOverflow": false,
       "aggSchema": [],
       "aggSeriesLimitReached": false,
       "aggType": "",
       "arguments": {},
       "columnCustomDisplayInfos": {},
       "data": [
        [
         "2012-09-18T09:00:00.000+0000"
        ],
        [
         "2012-09-18T17:30:00.000+0000"
        ],
        [
         "2012-09-18T13:30:00.000+0000"
        ],
        [
         "2012-09-18T20:00:00.000+0000"
        ],
        [
         "2012-09-19T09:30:00.000+0000"
        ],
        [
         "2012-09-19T15:00:00.000+0000"
        ],
        [
         "2012-09-19T12:00:00.000+0000"
        ],
        [
         "2012-09-20T15:30:00.000+0000"
        ],
        [
         "2012-09-20T11:30:00.000+0000"
        ],
        [
         "2012-09-20T14:00:00.000+0000"
        ],
        [
         "2012-09-21T10:30:00.000+0000"
        ],
        [
         "2012-09-21T14:00:00.000+0000"
        ],
        [
         "2012-09-22T08:30:00.000+0000"
        ],
        [
         "2012-09-22T17:00:00.000+0000"
        ],
        [
         "2012-09-23T08:30:00.000+0000"
        ],
        [
         "2012-09-23T17:30:00.000+0000"
        ],
        [
         "2012-09-23T19:00:00.000+0000"
        ],
        [
         "2012-09-24T08:00:00.000+0000"
        ],
        [
         "2012-09-24T16:30:00.000+0000"
        ],
        [
         "2012-09-24T12:30:00.000+0000"
        ],
        [
         "2012-09-25T15:30:00.000+0000"
        ],
        [
         "2012-09-25T17:00:00.000+0000"
        ],
        [
         "2012-09-26T13:00:00.000+0000"
        ],
        [
         "2012-09-26T17:00:00.000+0000"
        ],
        [
         "2012-09-27T08:00:00.000+0000"
        ],
        [
         "2012-09-28T11:30:00.000+0000"
        ],
        [
         "2012-09-28T09:30:00.000+0000"
        ],
        [
         "2012-09-28T13:00:00.000+0000"
        ],
        [
         "2012-09-29T16:00:00.000+0000"
        ],
        [
         "2012-09-29T10:30:00.000+0000"
        ],
        [
         "2012-09-29T13:30:00.000+0000"
        ],
        [
         "2012-09-29T14:30:00.000+0000"
        ],
        [
         "2012-09-29T17:30:00.000+0000"
        ],
        [
         "2012-09-30T14:30:00.000+0000"
        ]
       ],
       "datasetInfos": [],
       "dbfsResultPath": null,
       "isJsonSchema": true,
       "metadata": {},
       "overflow": false,
       "plotOptions": {
        "customPlotOptions": {},
        "displayType": "table",
        "pivotAggregation": null,
        "pivotColumns": null,
        "xColumns": null,
        "yColumns": null
       },
       "removedWidgets": [],
       "schema": [
        {
         "metadata": "{}",
         "name": "starttime",
         "type": "\"timestamp\""
        }
       ],
       "type": "table"
      }
     },
     "output_type": "display_data"
    }
   ],
   "source": [
    "#1. Simple Join 1\n",
    "david_farrell_bookings = spark.sql(\"\"\"\n",
    "    SELECT starttime\n",
    "    FROM bookings bks\n",
    "    JOIN members mems ON bks.memid = mems.memid\n",
    "    WHERE mems.firstname = 'David' AND mems.surname = 'Farrell'\n",
    "\"\"\")\n",
    "display(david_farrell_bookings)                 "
   ]
  },
  {
   "cell_type": "code",
   "execution_count": 0,
   "metadata": {
    "application/vnd.databricks.v1+cell": {
     "cellMetadata": {
      "byteLimit": 2048000,
      "rowLimit": 10000
     },
     "inputWidgets": {},
     "nuid": "937bc7a2-e434-4629-bdc0-05bd9d9fe5e6",
     "showTitle": false,
     "tableResultSettingsMap": {},
     "title": ""
    }
   },
   "outputs": [
    {
     "output_type": "display_data",
     "data": {
      "text/html": [
       "<style scoped>\n",
       "  .table-result-container {\n",
       "    max-height: 300px;\n",
       "    overflow: auto;\n",
       "  }\n",
       "  table, th, td {\n",
       "    border: 1px solid black;\n",
       "    border-collapse: collapse;\n",
       "  }\n",
       "  th, td {\n",
       "    padding: 5px;\n",
       "  }\n",
       "  th {\n",
       "    text-align: left;\n",
       "  }\n",
       "</style><div class='table-result-container'><table class='table-result'><thead style='background-color: white'><tr><th>starttime</th><th>facility</th></tr></thead><tbody><tr><td>2012-09-21T08:00:00.000+0000</td><td>Tennis Court 1</td></tr><tr><td>2012-09-21T08:00:00.000+0000</td><td>Tennis Court 2</td></tr><tr><td>2012-09-21T09:30:00.000+0000</td><td>Tennis Court 1</td></tr><tr><td>2012-09-21T10:00:00.000+0000</td><td>Tennis Court 2</td></tr><tr><td>2012-09-21T11:30:00.000+0000</td><td>Tennis Court 2</td></tr><tr><td>2012-09-21T12:00:00.000+0000</td><td>Tennis Court 1</td></tr><tr><td>2012-09-21T13:30:00.000+0000</td><td>Tennis Court 1</td></tr><tr><td>2012-09-21T14:00:00.000+0000</td><td>Tennis Court 2</td></tr><tr><td>2012-09-21T15:30:00.000+0000</td><td>Tennis Court 1</td></tr><tr><td>2012-09-21T16:00:00.000+0000</td><td>Tennis Court 2</td></tr><tr><td>2012-09-21T17:00:00.000+0000</td><td>Tennis Court 1</td></tr><tr><td>2012-09-21T18:00:00.000+0000</td><td>Tennis Court 2</td></tr><tr><td>2012-09-22T08:30:00.000+0000</td><td>Tennis Court 1</td></tr><tr><td>2012-09-22T09:00:00.000+0000</td><td>Tennis Court 2</td></tr><tr><td>2012-09-22T10:00:00.000+0000</td><td>Tennis Court 1</td></tr><tr><td>2012-09-22T11:00:00.000+0000</td><td>Tennis Court 2</td></tr><tr><td>2012-09-22T12:30:00.000+0000</td><td>Tennis Court 2</td></tr><tr><td>2012-09-22T13:00:00.000+0000</td><td>Tennis Court 1</td></tr><tr><td>2012-09-22T14:00:00.000+0000</td><td>Tennis Court 2</td></tr><tr><td>2012-09-22T15:00:00.000+0000</td><td>Tennis Court 1</td></tr><tr><td>2012-09-22T16:00:00.000+0000</td><td>Tennis Court 2</td></tr><tr><td>2012-09-22T16:30:00.000+0000</td><td>Tennis Court 1</td></tr><tr><td>2012-09-22T17:30:00.000+0000</td><td>Tennis Court 2</td></tr><tr><td>2012-09-22T18:00:00.000+0000</td><td>Tennis Court 1</td></tr><tr><td>2012-09-23T08:00:00.000+0000</td><td>Tennis Court 1</td></tr><tr><td>2012-09-23T08:30:00.000+0000</td><td>Tennis Court 2</td></tr><tr><td>2012-09-23T09:30:00.000+0000</td><td>Tennis Court 1</td></tr><tr><td>2012-09-23T10:30:00.000+0000</td><td>Tennis Court 2</td></tr><tr><td>2012-09-23T11:00:00.000+0000</td><td>Tennis Court 1</td></tr><tr><td>2012-09-23T12:00:00.000+0000</td><td>Tennis Court 2</td></tr><tr><td>2012-09-23T12:30:00.000+0000</td><td>Tennis Court 1</td></tr><tr><td>2012-09-23T13:30:00.000+0000</td><td>Tennis Court 2</td></tr><tr><td>2012-09-23T14:00:00.000+0000</td><td>Tennis Court 1</td></tr><tr><td>2012-09-23T15:00:00.000+0000</td><td>Tennis Court 2</td></tr><tr><td>2012-09-23T16:30:00.000+0000</td><td>Tennis Court 1</td></tr><tr><td>2012-09-23T16:30:00.000+0000</td><td>Tennis Court 2</td></tr><tr><td>2012-09-23T18:00:00.000+0000</td><td>Tennis Court 1</td></tr><tr><td>2012-09-23T18:00:00.000+0000</td><td>Tennis Court 2</td></tr><tr><td>2012-09-24T08:00:00.000+0000</td><td>Tennis Court 1</td></tr><tr><td>2012-09-24T08:00:00.000+0000</td><td>Tennis Court 2</td></tr><tr><td>2012-09-24T09:30:00.000+0000</td><td>Tennis Court 2</td></tr><tr><td>2012-09-24T12:00:00.000+0000</td><td>Tennis Court 2</td></tr><tr><td>2012-09-24T12:30:00.000+0000</td><td>Tennis Court 1</td></tr><tr><td>2012-09-24T14:00:00.000+0000</td><td>Tennis Court 1</td></tr><tr><td>2012-09-24T15:00:00.000+0000</td><td>Tennis Court 2</td></tr><tr><td>2012-09-24T15:30:00.000+0000</td><td>Tennis Court 1</td></tr><tr><td>2012-09-24T16:30:00.000+0000</td><td>Tennis Court 2</td></tr><tr><td>2012-09-24T18:30:00.000+0000</td><td>Tennis Court 1</td></tr><tr><td>2012-09-24T19:00:00.000+0000</td><td>Tennis Court 2</td></tr><tr><td>2012-09-25T08:00:00.000+0000</td><td>Tennis Court 1</td></tr><tr><td>2012-09-25T08:00:00.000+0000</td><td>Tennis Court 2</td></tr><tr><td>2012-09-25T09:30:00.000+0000</td><td>Tennis Court 1</td></tr><tr><td>2012-09-25T10:00:00.000+0000</td><td>Tennis Court 2</td></tr><tr><td>2012-09-25T11:30:00.000+0000</td><td>Tennis Court 2</td></tr><tr><td>2012-09-25T13:00:00.000+0000</td><td>Tennis Court 1</td></tr><tr><td>2012-09-25T13:00:00.000+0000</td><td>Tennis Court 2</td></tr><tr><td>2012-09-25T14:30:00.000+0000</td><td>Tennis Court 2</td></tr><tr><td>2012-09-25T15:00:00.000+0000</td><td>Tennis Court 1</td></tr><tr><td>2012-09-25T16:30:00.000+0000</td><td>Tennis Court 2</td></tr><tr><td>2012-09-25T18:00:00.000+0000</td><td>Tennis Court 1</td></tr><tr><td>2012-09-25T18:30:00.000+0000</td><td>Tennis Court 2</td></tr><tr><td>2012-09-26T08:00:00.000+0000</td><td>Tennis Court 1</td></tr><tr><td>2012-09-26T08:00:00.000+0000</td><td>Tennis Court 2</td></tr><tr><td>2012-09-26T09:30:00.000+0000</td><td>Tennis Court 1</td></tr><tr><td>2012-09-26T10:30:00.000+0000</td><td>Tennis Court 2</td></tr><tr><td>2012-09-26T11:00:00.000+0000</td><td>Tennis Court 1</td></tr><tr><td>2012-09-26T12:00:00.000+0000</td><td>Tennis Court 2</td></tr><tr><td>2012-09-26T13:30:00.000+0000</td><td>Tennis Court 1</td></tr><tr><td>2012-09-26T14:00:00.000+0000</td><td>Tennis Court 2</td></tr><tr><td>2012-09-26T15:00:00.000+0000</td><td>Tennis Court 1</td></tr><tr><td>2012-09-26T15:30:00.000+0000</td><td>Tennis Court 2</td></tr><tr><td>2012-09-26T18:00:00.000+0000</td><td>Tennis Court 1</td></tr><tr><td>2012-09-26T18:30:00.000+0000</td><td>Tennis Court 2</td></tr><tr><td>2012-09-27T08:00:00.000+0000</td><td>Tennis Court 2</td></tr><tr><td>2012-09-27T09:00:00.000+0000</td><td>Tennis Court 1</td></tr><tr><td>2012-09-27T11:00:00.000+0000</td><td>Tennis Court 1</td></tr><tr><td>2012-09-27T12:30:00.000+0000</td><td>Tennis Court 2</td></tr><tr><td>2012-09-27T13:00:00.000+0000</td><td>Tennis Court 1</td></tr><tr><td>2012-09-27T14:30:00.000+0000</td><td>Tennis Court 2</td></tr><tr><td>2012-09-27T16:00:00.000+0000</td><td>Tennis Court 1</td></tr><tr><td>2012-09-27T16:00:00.000+0000</td><td>Tennis Court 2</td></tr><tr><td>2012-09-27T17:30:00.000+0000</td><td>Tennis Court 1</td></tr><tr><td>2012-09-27T17:30:00.000+0000</td><td>Tennis Court 2</td></tr><tr><td>2012-09-28T08:00:00.000+0000</td><td>Tennis Court 2</td></tr><tr><td>2012-09-28T08:30:00.000+0000</td><td>Tennis Court 1</td></tr><tr><td>2012-09-28T09:30:00.000+0000</td><td>Tennis Court 2</td></tr><tr><td>2012-09-28T10:00:00.000+0000</td><td>Tennis Court 1</td></tr><tr><td>2012-09-28T11:30:00.000+0000</td><td>Tennis Court 1</td></tr><tr><td>2012-09-28T13:00:00.000+0000</td><td>Tennis Court 1</td></tr><tr><td>2012-09-28T14:00:00.000+0000</td><td>Tennis Court 2</td></tr><tr><td>2012-09-28T15:00:00.000+0000</td><td>Tennis Court 1</td></tr><tr><td>2012-09-28T15:30:00.000+0000</td><td>Tennis Court 2</td></tr><tr><td>2012-09-28T17:00:00.000+0000</td><td>Tennis Court 1</td></tr><tr><td>2012-09-28T17:30:00.000+0000</td><td>Tennis Court 2</td></tr><tr><td>2012-09-29T08:00:00.000+0000</td><td>Tennis Court 1</td></tr><tr><td>2012-09-29T10:00:00.000+0000</td><td>Tennis Court 2</td></tr><tr><td>2012-09-29T11:30:00.000+0000</td><td>Tennis Court 1</td></tr><tr><td>2012-09-29T11:30:00.000+0000</td><td>Tennis Court 2</td></tr><tr><td>2012-09-29T13:00:00.000+0000</td><td>Tennis Court 2</td></tr><tr><td>2012-09-29T14:30:00.000+0000</td><td>Tennis Court 1</td></tr><tr><td>2012-09-29T14:30:00.000+0000</td><td>Tennis Court 2</td></tr><tr><td>2012-09-29T16:00:00.000+0000</td><td>Tennis Court 1</td></tr><tr><td>2012-09-29T16:00:00.000+0000</td><td>Tennis Court 2</td></tr><tr><td>2012-09-29T17:30:00.000+0000</td><td>Tennis Court 1</td></tr><tr><td>2012-09-29T18:00:00.000+0000</td><td>Tennis Court 2</td></tr><tr><td>2012-09-30T08:00:00.000+0000</td><td>Tennis Court 1</td></tr><tr><td>2012-09-30T08:30:00.000+0000</td><td>Tennis Court 2</td></tr><tr><td>2012-09-30T09:30:00.000+0000</td><td>Tennis Court 1</td></tr><tr><td>2012-09-30T10:00:00.000+0000</td><td>Tennis Court 2</td></tr><tr><td>2012-09-30T11:00:00.000+0000</td><td>Tennis Court 1</td></tr><tr><td>2012-09-30T11:30:00.000+0000</td><td>Tennis Court 2</td></tr><tr><td>2012-09-30T13:30:00.000+0000</td><td>Tennis Court 2</td></tr><tr><td>2012-09-30T14:00:00.000+0000</td><td>Tennis Court 1</td></tr><tr><td>2012-09-30T16:00:00.000+0000</td><td>Tennis Court 1</td></tr><tr><td>2012-09-30T16:30:00.000+0000</td><td>Tennis Court 2</td></tr><tr><td>2012-09-30T17:30:00.000+0000</td><td>Tennis Court 1</td></tr><tr><td>2012-09-30T18:30:00.000+0000</td><td>Tennis Court 2</td></tr><tr><td>2012-09-30T19:00:00.000+0000</td><td>Tennis Court 1</td></tr></tbody></table></div>"
      ]
     },
     "metadata": {
      "application/vnd.databricks.v1+output": {
       "addedWidgets": {},
       "aggData": [],
       "aggError": "",
       "aggOverflow": false,
       "aggSchema": [],
       "aggSeriesLimitReached": false,
       "aggType": "",
       "arguments": {},
       "columnCustomDisplayInfos": {},
       "data": [
        [
         "2012-09-21T08:00:00.000+0000",
         "Tennis Court 1"
        ],
        [
         "2012-09-21T08:00:00.000+0000",
         "Tennis Court 2"
        ],
        [
         "2012-09-21T09:30:00.000+0000",
         "Tennis Court 1"
        ],
        [
         "2012-09-21T10:00:00.000+0000",
         "Tennis Court 2"
        ],
        [
         "2012-09-21T11:30:00.000+0000",
         "Tennis Court 2"
        ],
        [
         "2012-09-21T12:00:00.000+0000",
         "Tennis Court 1"
        ],
        [
         "2012-09-21T13:30:00.000+0000",
         "Tennis Court 1"
        ],
        [
         "2012-09-21T14:00:00.000+0000",
         "Tennis Court 2"
        ],
        [
         "2012-09-21T15:30:00.000+0000",
         "Tennis Court 1"
        ],
        [
         "2012-09-21T16:00:00.000+0000",
         "Tennis Court 2"
        ],
        [
         "2012-09-21T17:00:00.000+0000",
         "Tennis Court 1"
        ],
        [
         "2012-09-21T18:00:00.000+0000",
         "Tennis Court 2"
        ],
        [
         "2012-09-22T08:30:00.000+0000",
         "Tennis Court 1"
        ],
        [
         "2012-09-22T09:00:00.000+0000",
         "Tennis Court 2"
        ],
        [
         "2012-09-22T10:00:00.000+0000",
         "Tennis Court 1"
        ],
        [
         "2012-09-22T11:00:00.000+0000",
         "Tennis Court 2"
        ],
        [
         "2012-09-22T12:30:00.000+0000",
         "Tennis Court 2"
        ],
        [
         "2012-09-22T13:00:00.000+0000",
         "Tennis Court 1"
        ],
        [
         "2012-09-22T14:00:00.000+0000",
         "Tennis Court 2"
        ],
        [
         "2012-09-22T15:00:00.000+0000",
         "Tennis Court 1"
        ],
        [
         "2012-09-22T16:00:00.000+0000",
         "Tennis Court 2"
        ],
        [
         "2012-09-22T16:30:00.000+0000",
         "Tennis Court 1"
        ],
        [
         "2012-09-22T17:30:00.000+0000",
         "Tennis Court 2"
        ],
        [
         "2012-09-22T18:00:00.000+0000",
         "Tennis Court 1"
        ],
        [
         "2012-09-23T08:00:00.000+0000",
         "Tennis Court 1"
        ],
        [
         "2012-09-23T08:30:00.000+0000",
         "Tennis Court 2"
        ],
        [
         "2012-09-23T09:30:00.000+0000",
         "Tennis Court 1"
        ],
        [
         "2012-09-23T10:30:00.000+0000",
         "Tennis Court 2"
        ],
        [
         "2012-09-23T11:00:00.000+0000",
         "Tennis Court 1"
        ],
        [
         "2012-09-23T12:00:00.000+0000",
         "Tennis Court 2"
        ],
        [
         "2012-09-23T12:30:00.000+0000",
         "Tennis Court 1"
        ],
        [
         "2012-09-23T13:30:00.000+0000",
         "Tennis Court 2"
        ],
        [
         "2012-09-23T14:00:00.000+0000",
         "Tennis Court 1"
        ],
        [
         "2012-09-23T15:00:00.000+0000",
         "Tennis Court 2"
        ],
        [
         "2012-09-23T16:30:00.000+0000",
         "Tennis Court 1"
        ],
        [
         "2012-09-23T16:30:00.000+0000",
         "Tennis Court 2"
        ],
        [
         "2012-09-23T18:00:00.000+0000",
         "Tennis Court 1"
        ],
        [
         "2012-09-23T18:00:00.000+0000",
         "Tennis Court 2"
        ],
        [
         "2012-09-24T08:00:00.000+0000",
         "Tennis Court 1"
        ],
        [
         "2012-09-24T08:00:00.000+0000",
         "Tennis Court 2"
        ],
        [
         "2012-09-24T09:30:00.000+0000",
         "Tennis Court 2"
        ],
        [
         "2012-09-24T12:00:00.000+0000",
         "Tennis Court 2"
        ],
        [
         "2012-09-24T12:30:00.000+0000",
         "Tennis Court 1"
        ],
        [
         "2012-09-24T14:00:00.000+0000",
         "Tennis Court 1"
        ],
        [
         "2012-09-24T15:00:00.000+0000",
         "Tennis Court 2"
        ],
        [
         "2012-09-24T15:30:00.000+0000",
         "Tennis Court 1"
        ],
        [
         "2012-09-24T16:30:00.000+0000",
         "Tennis Court 2"
        ],
        [
         "2012-09-24T18:30:00.000+0000",
         "Tennis Court 1"
        ],
        [
         "2012-09-24T19:00:00.000+0000",
         "Tennis Court 2"
        ],
        [
         "2012-09-25T08:00:00.000+0000",
         "Tennis Court 1"
        ],
        [
         "2012-09-25T08:00:00.000+0000",
         "Tennis Court 2"
        ],
        [
         "2012-09-25T09:30:00.000+0000",
         "Tennis Court 1"
        ],
        [
         "2012-09-25T10:00:00.000+0000",
         "Tennis Court 2"
        ],
        [
         "2012-09-25T11:30:00.000+0000",
         "Tennis Court 2"
        ],
        [
         "2012-09-25T13:00:00.000+0000",
         "Tennis Court 1"
        ],
        [
         "2012-09-25T13:00:00.000+0000",
         "Tennis Court 2"
        ],
        [
         "2012-09-25T14:30:00.000+0000",
         "Tennis Court 2"
        ],
        [
         "2012-09-25T15:00:00.000+0000",
         "Tennis Court 1"
        ],
        [
         "2012-09-25T16:30:00.000+0000",
         "Tennis Court 2"
        ],
        [
         "2012-09-25T18:00:00.000+0000",
         "Tennis Court 1"
        ],
        [
         "2012-09-25T18:30:00.000+0000",
         "Tennis Court 2"
        ],
        [
         "2012-09-26T08:00:00.000+0000",
         "Tennis Court 1"
        ],
        [
         "2012-09-26T08:00:00.000+0000",
         "Tennis Court 2"
        ],
        [
         "2012-09-26T09:30:00.000+0000",
         "Tennis Court 1"
        ],
        [
         "2012-09-26T10:30:00.000+0000",
         "Tennis Court 2"
        ],
        [
         "2012-09-26T11:00:00.000+0000",
         "Tennis Court 1"
        ],
        [
         "2012-09-26T12:00:00.000+0000",
         "Tennis Court 2"
        ],
        [
         "2012-09-26T13:30:00.000+0000",
         "Tennis Court 1"
        ],
        [
         "2012-09-26T14:00:00.000+0000",
         "Tennis Court 2"
        ],
        [
         "2012-09-26T15:00:00.000+0000",
         "Tennis Court 1"
        ],
        [
         "2012-09-26T15:30:00.000+0000",
         "Tennis Court 2"
        ],
        [
         "2012-09-26T18:00:00.000+0000",
         "Tennis Court 1"
        ],
        [
         "2012-09-26T18:30:00.000+0000",
         "Tennis Court 2"
        ],
        [
         "2012-09-27T08:00:00.000+0000",
         "Tennis Court 2"
        ],
        [
         "2012-09-27T09:00:00.000+0000",
         "Tennis Court 1"
        ],
        [
         "2012-09-27T11:00:00.000+0000",
         "Tennis Court 1"
        ],
        [
         "2012-09-27T12:30:00.000+0000",
         "Tennis Court 2"
        ],
        [
         "2012-09-27T13:00:00.000+0000",
         "Tennis Court 1"
        ],
        [
         "2012-09-27T14:30:00.000+0000",
         "Tennis Court 2"
        ],
        [
         "2012-09-27T16:00:00.000+0000",
         "Tennis Court 1"
        ],
        [
         "2012-09-27T16:00:00.000+0000",
         "Tennis Court 2"
        ],
        [
         "2012-09-27T17:30:00.000+0000",
         "Tennis Court 1"
        ],
        [
         "2012-09-27T17:30:00.000+0000",
         "Tennis Court 2"
        ],
        [
         "2012-09-28T08:00:00.000+0000",
         "Tennis Court 2"
        ],
        [
         "2012-09-28T08:30:00.000+0000",
         "Tennis Court 1"
        ],
        [
         "2012-09-28T09:30:00.000+0000",
         "Tennis Court 2"
        ],
        [
         "2012-09-28T10:00:00.000+0000",
         "Tennis Court 1"
        ],
        [
         "2012-09-28T11:30:00.000+0000",
         "Tennis Court 1"
        ],
        [
         "2012-09-28T13:00:00.000+0000",
         "Tennis Court 1"
        ],
        [
         "2012-09-28T14:00:00.000+0000",
         "Tennis Court 2"
        ],
        [
         "2012-09-28T15:00:00.000+0000",
         "Tennis Court 1"
        ],
        [
         "2012-09-28T15:30:00.000+0000",
         "Tennis Court 2"
        ],
        [
         "2012-09-28T17:00:00.000+0000",
         "Tennis Court 1"
        ],
        [
         "2012-09-28T17:30:00.000+0000",
         "Tennis Court 2"
        ],
        [
         "2012-09-29T08:00:00.000+0000",
         "Tennis Court 1"
        ],
        [
         "2012-09-29T10:00:00.000+0000",
         "Tennis Court 2"
        ],
        [
         "2012-09-29T11:30:00.000+0000",
         "Tennis Court 1"
        ],
        [
         "2012-09-29T11:30:00.000+0000",
         "Tennis Court 2"
        ],
        [
         "2012-09-29T13:00:00.000+0000",
         "Tennis Court 2"
        ],
        [
         "2012-09-29T14:30:00.000+0000",
         "Tennis Court 1"
        ],
        [
         "2012-09-29T14:30:00.000+0000",
         "Tennis Court 2"
        ],
        [
         "2012-09-29T16:00:00.000+0000",
         "Tennis Court 1"
        ],
        [
         "2012-09-29T16:00:00.000+0000",
         "Tennis Court 2"
        ],
        [
         "2012-09-29T17:30:00.000+0000",
         "Tennis Court 1"
        ],
        [
         "2012-09-29T18:00:00.000+0000",
         "Tennis Court 2"
        ],
        [
         "2012-09-30T08:00:00.000+0000",
         "Tennis Court 1"
        ],
        [
         "2012-09-30T08:30:00.000+0000",
         "Tennis Court 2"
        ],
        [
         "2012-09-30T09:30:00.000+0000",
         "Tennis Court 1"
        ],
        [
         "2012-09-30T10:00:00.000+0000",
         "Tennis Court 2"
        ],
        [
         "2012-09-30T11:00:00.000+0000",
         "Tennis Court 1"
        ],
        [
         "2012-09-30T11:30:00.000+0000",
         "Tennis Court 2"
        ],
        [
         "2012-09-30T13:30:00.000+0000",
         "Tennis Court 2"
        ],
        [
         "2012-09-30T14:00:00.000+0000",
         "Tennis Court 1"
        ],
        [
         "2012-09-30T16:00:00.000+0000",
         "Tennis Court 1"
        ],
        [
         "2012-09-30T16:30:00.000+0000",
         "Tennis Court 2"
        ],
        [
         "2012-09-30T17:30:00.000+0000",
         "Tennis Court 1"
        ],
        [
         "2012-09-30T18:30:00.000+0000",
         "Tennis Court 2"
        ],
        [
         "2012-09-30T19:00:00.000+0000",
         "Tennis Court 1"
        ]
       ],
       "datasetInfos": [],
       "dbfsResultPath": null,
       "isJsonSchema": true,
       "metadata": {},
       "overflow": false,
       "plotOptions": {
        "customPlotOptions": {},
        "displayType": "table",
        "pivotAggregation": null,
        "pivotColumns": null,
        "xColumns": null,
        "yColumns": null
       },
       "removedWidgets": [],
       "schema": [
        {
         "metadata": "{}",
         "name": "starttime",
         "type": "\"timestamp\""
        },
        {
         "metadata": "{}",
         "name": "facility",
         "type": "\"string\""
        }
       ],
       "type": "table"
      }
     },
     "output_type": "display_data"
    }
   ],
   "source": [
    "#2. Simple Join 2\n",
    "tennis_bookings = spark.sql(\"\"\"\n",
    "    SELECT bks.starttime, facs.name AS facility\n",
    "    FROM bookings bks\n",
    "    JOIN facilities facs ON bks.facid = facs.facid\n",
    "    WHERE facs.name LIKE 'Tennis Court%' AND bks.starttime >= '2012-09-21'\n",
    "    ORDER BY bks.starttime\n",
    "\"\"\")\n",
    "display(tennis_bookings)                        "
   ]
  },
  {
   "cell_type": "code",
   "execution_count": 0,
   "metadata": {
    "application/vnd.databricks.v1+cell": {
     "cellMetadata": {
      "byteLimit": 2048000,
      "rowLimit": 10000
     },
     "inputWidgets": {},
     "nuid": "1a412425-0e1b-473f-9c94-a6ad692ca3fa",
     "showTitle": false,
     "tableResultSettingsMap": {},
     "title": ""
    }
   },
   "outputs": [
    {
     "output_type": "display_data",
     "data": {
      "text/html": [
       "<style scoped>\n",
       "  .table-result-container {\n",
       "    max-height: 300px;\n",
       "    overflow: auto;\n",
       "  }\n",
       "  table, th, td {\n",
       "    border: 1px solid black;\n",
       "    border-collapse: collapse;\n",
       "  }\n",
       "  th, td {\n",
       "    padding: 5px;\n",
       "  }\n",
       "  th {\n",
       "    text-align: left;\n",
       "  }\n",
       "</style><div class='table-result-container'><table class='table-result'><thead style='background-color: white'><tr><th>member_name</th><th>recommender_name</th></tr></thead><tbody><tr><td>Florence Bader</td><td>Ponder Stibbons</td></tr><tr><td>Anne Baker</td><td>Ponder Stibbons</td></tr><tr><td>Timothy Baker</td><td>Jemima Farrell</td></tr><tr><td>Tim Boothe</td><td>Tim Rownam</td></tr><tr><td>Gerald Butters</td><td>Darren Smith</td></tr><tr><td>Joan Coplin</td><td>Timothy Baker</td></tr><tr><td>Erica Crumpet</td><td>Tracy Smith</td></tr><tr><td>Nancy Dare</td><td>Janice Joplette</td></tr><tr><td>David Farrell</td><td>No recommender</td></tr><tr><td>Jemima Farrell</td><td>No recommender</td></tr><tr><td>GUEST GUEST</td><td>No recommender</td></tr><tr><td>Matthew Genting</td><td>Gerald Butters</td></tr><tr><td>John Hunt</td><td>Millicent Purview</td></tr><tr><td>David Jones</td><td>Janice Joplette</td></tr><tr><td>Douglas Jones</td><td>David Jones</td></tr><tr><td>Janice Joplette</td><td>Darren Smith</td></tr><tr><td>Anna Mackenzie</td><td>Darren Smith</td></tr><tr><td>Charles Owen</td><td>Darren Smith</td></tr><tr><td>David Pinker</td><td>Jemima Farrell</td></tr><tr><td>Millicent Purview</td><td>Tracy Smith</td></tr><tr><td>Tim Rownam</td><td>No recommender</td></tr><tr><td>Henrietta Rumney</td><td>Matthew Genting</td></tr><tr><td>Ramnaresh Sarwin</td><td>Florence Bader</td></tr><tr><td>Darren Smith</td><td>No recommender</td></tr><tr><td>Darren Smith</td><td>No recommender</td></tr><tr><td>Jack Smith</td><td>Darren Smith</td></tr><tr><td>Tracy Smith</td><td>No recommender</td></tr><tr><td>Ponder Stibbons</td><td>Burton Tracy</td></tr><tr><td>Burton Tracy</td><td>No recommender</td></tr><tr><td>Hyacinth Tupperware</td><td>No recommender</td></tr><tr><td>Henry Worthington-Smyth</td><td>Tracy Smith</td></tr></tbody></table></div>"
      ]
     },
     "metadata": {
      "application/vnd.databricks.v1+output": {
       "addedWidgets": {},
       "aggData": [],
       "aggError": "",
       "aggOverflow": false,
       "aggSchema": [],
       "aggSeriesLimitReached": false,
       "aggType": "",
       "arguments": {},
       "columnCustomDisplayInfos": {},
       "data": [
        [
         "Florence Bader",
         "Ponder Stibbons"
        ],
        [
         "Anne Baker",
         "Ponder Stibbons"
        ],
        [
         "Timothy Baker",
         "Jemima Farrell"
        ],
        [
         "Tim Boothe",
         "Tim Rownam"
        ],
        [
         "Gerald Butters",
         "Darren Smith"
        ],
        [
         "Joan Coplin",
         "Timothy Baker"
        ],
        [
         "Erica Crumpet",
         "Tracy Smith"
        ],
        [
         "Nancy Dare",
         "Janice Joplette"
        ],
        [
         "David Farrell",
         "No recommender"
        ],
        [
         "Jemima Farrell",
         "No recommender"
        ],
        [
         "GUEST GUEST",
         "No recommender"
        ],
        [
         "Matthew Genting",
         "Gerald Butters"
        ],
        [
         "John Hunt",
         "Millicent Purview"
        ],
        [
         "David Jones",
         "Janice Joplette"
        ],
        [
         "Douglas Jones",
         "David Jones"
        ],
        [
         "Janice Joplette",
         "Darren Smith"
        ],
        [
         "Anna Mackenzie",
         "Darren Smith"
        ],
        [
         "Charles Owen",
         "Darren Smith"
        ],
        [
         "David Pinker",
         "Jemima Farrell"
        ],
        [
         "Millicent Purview",
         "Tracy Smith"
        ],
        [
         "Tim Rownam",
         "No recommender"
        ],
        [
         "Henrietta Rumney",
         "Matthew Genting"
        ],
        [
         "Ramnaresh Sarwin",
         "Florence Bader"
        ],
        [
         "Darren Smith",
         "No recommender"
        ],
        [
         "Darren Smith",
         "No recommender"
        ],
        [
         "Jack Smith",
         "Darren Smith"
        ],
        [
         "Tracy Smith",
         "No recommender"
        ],
        [
         "Ponder Stibbons",
         "Burton Tracy"
        ],
        [
         "Burton Tracy",
         "No recommender"
        ],
        [
         "Hyacinth Tupperware",
         "No recommender"
        ],
        [
         "Henry Worthington-Smyth",
         "Tracy Smith"
        ]
       ],
       "datasetInfos": [],
       "dbfsResultPath": null,
       "isJsonSchema": true,
       "metadata": {},
       "overflow": false,
       "plotOptions": {
        "customPlotOptions": {},
        "displayType": "table",
        "pivotAggregation": null,
        "pivotColumns": null,
        "xColumns": null,
        "yColumns": null
       },
       "removedWidgets": [],
       "schema": [
        {
         "metadata": "{}",
         "name": "member_name",
         "type": "\"string\""
        },
        {
         "metadata": "{}",
         "name": "recommender_name",
         "type": "\"string\""
        }
       ],
       "type": "table"
      }
     },
     "output_type": "display_data"
    }
   ],
   "source": [
    "#3. Self Join\n",
    "recommended_members = spark.sql(\"\"\"\n",
    "    SELECT \n",
    "        CONCAT(mems.firstname, ' ', mems.surname) AS member_name,\n",
    "        CASE \n",
    "            WHEN mems.recommendedby IS NOT NULL THEN CONCAT(recs.firstname, ' ', recs.surname)\n",
    "            ELSE 'No recommender'\n",
    "        END AS recommender_name\n",
    "    FROM members mems\n",
    "    LEFT JOIN members recs ON mems.recommendedby = recs.memid\n",
    "    ORDER BY mems.surname, mems.firstname\n",
    "\"\"\")\n",
    "display(recommended_members)\n",
    "                     "
   ]
  },
  {
   "cell_type": "code",
   "execution_count": 0,
   "metadata": {
    "application/vnd.databricks.v1+cell": {
     "cellMetadata": {
      "byteLimit": 2048000,
      "rowLimit": 10000
     },
     "inputWidgets": {},
     "nuid": "fd65af99-d1fa-48e2-abb9-82481f865268",
     "showTitle": false,
     "tableResultSettingsMap": {},
     "title": ""
    }
   },
   "outputs": [
    {
     "output_type": "display_data",
     "data": {
      "text/html": [
       "<style scoped>\n",
       "  .table-result-container {\n",
       "    max-height: 300px;\n",
       "    overflow: auto;\n",
       "  }\n",
       "  table, th, td {\n",
       "    border: 1px solid black;\n",
       "    border-collapse: collapse;\n",
       "  }\n",
       "  th, td {\n",
       "    padding: 5px;\n",
       "  }\n",
       "  th {\n",
       "    text-align: left;\n",
       "  }\n",
       "</style><div class='table-result-container'><table class='table-result'><thead style='background-color: white'><tr><th>member_name</th><th>facility_name</th></tr></thead><tbody><tr><td>Anne Baker</td><td>Tennis Court 1</td></tr><tr><td>Anne Baker</td><td>Tennis Court 2</td></tr><tr><td>Burton Tracy</td><td>Tennis Court 1</td></tr><tr><td>Burton Tracy</td><td>Tennis Court 2</td></tr><tr><td>Charles Owen</td><td>Tennis Court 1</td></tr><tr><td>Charles Owen</td><td>Tennis Court 2</td></tr><tr><td>Darren Smith</td><td>Tennis Court 2</td></tr><tr><td>David Farrell</td><td>Tennis Court 1</td></tr><tr><td>David Farrell</td><td>Tennis Court 2</td></tr><tr><td>David Jones</td><td>Tennis Court 1</td></tr><tr><td>David Jones</td><td>Tennis Court 2</td></tr><tr><td>David Pinker</td><td>Tennis Court 1</td></tr><tr><td>Douglas Jones</td><td>Tennis Court 1</td></tr><tr><td>Erica Crumpet</td><td>Tennis Court 1</td></tr><tr><td>Florence Bader</td><td>Tennis Court 1</td></tr><tr><td>Florence Bader</td><td>Tennis Court 2</td></tr><tr><td>GUEST GUEST</td><td>Tennis Court 1</td></tr><tr><td>GUEST GUEST</td><td>Tennis Court 2</td></tr><tr><td>Gerald Butters</td><td>Tennis Court 1</td></tr><tr><td>Gerald Butters</td><td>Tennis Court 2</td></tr><tr><td>Henrietta Rumney</td><td>Tennis Court 2</td></tr><tr><td>Jack Smith</td><td>Tennis Court 1</td></tr><tr><td>Jack Smith</td><td>Tennis Court 2</td></tr><tr><td>Janice Joplette</td><td>Tennis Court 1</td></tr><tr><td>Janice Joplette</td><td>Tennis Court 2</td></tr><tr><td>Jemima Farrell</td><td>Tennis Court 1</td></tr><tr><td>Jemima Farrell</td><td>Tennis Court 2</td></tr><tr><td>Joan Coplin</td><td>Tennis Court 1</td></tr><tr><td>John Hunt</td><td>Tennis Court 1</td></tr><tr><td>John Hunt</td><td>Tennis Court 2</td></tr><tr><td>Matthew Genting</td><td>Tennis Court 1</td></tr><tr><td>Millicent Purview</td><td>Tennis Court 2</td></tr><tr><td>Nancy Dare</td><td>Tennis Court 1</td></tr><tr><td>Nancy Dare</td><td>Tennis Court 2</td></tr><tr><td>Ponder Stibbons</td><td>Tennis Court 1</td></tr><tr><td>Ponder Stibbons</td><td>Tennis Court 2</td></tr><tr><td>Ramnaresh Sarwin</td><td>Tennis Court 1</td></tr><tr><td>Ramnaresh Sarwin</td><td>Tennis Court 2</td></tr><tr><td>Tim Boothe</td><td>Tennis Court 1</td></tr><tr><td>Tim Boothe</td><td>Tennis Court 2</td></tr><tr><td>Tim Rownam</td><td>Tennis Court 1</td></tr><tr><td>Tim Rownam</td><td>Tennis Court 2</td></tr><tr><td>Timothy Baker</td><td>Tennis Court 1</td></tr><tr><td>Timothy Baker</td><td>Tennis Court 2</td></tr><tr><td>Tracy Smith</td><td>Tennis Court 1</td></tr><tr><td>Tracy Smith</td><td>Tennis Court 2</td></tr></tbody></table></div>"
      ]
     },
     "metadata": {
      "application/vnd.databricks.v1+output": {
       "addedWidgets": {},
       "aggData": [],
       "aggError": "",
       "aggOverflow": false,
       "aggSchema": [],
       "aggSeriesLimitReached": false,
       "aggType": "",
       "arguments": {},
       "columnCustomDisplayInfos": {},
       "data": [
        [
         "Anne Baker",
         "Tennis Court 1"
        ],
        [
         "Anne Baker",
         "Tennis Court 2"
        ],
        [
         "Burton Tracy",
         "Tennis Court 1"
        ],
        [
         "Burton Tracy",
         "Tennis Court 2"
        ],
        [
         "Charles Owen",
         "Tennis Court 1"
        ],
        [
         "Charles Owen",
         "Tennis Court 2"
        ],
        [
         "Darren Smith",
         "Tennis Court 2"
        ],
        [
         "David Farrell",
         "Tennis Court 1"
        ],
        [
         "David Farrell",
         "Tennis Court 2"
        ],
        [
         "David Jones",
         "Tennis Court 1"
        ],
        [
         "David Jones",
         "Tennis Court 2"
        ],
        [
         "David Pinker",
         "Tennis Court 1"
        ],
        [
         "Douglas Jones",
         "Tennis Court 1"
        ],
        [
         "Erica Crumpet",
         "Tennis Court 1"
        ],
        [
         "Florence Bader",
         "Tennis Court 1"
        ],
        [
         "Florence Bader",
         "Tennis Court 2"
        ],
        [
         "GUEST GUEST",
         "Tennis Court 1"
        ],
        [
         "GUEST GUEST",
         "Tennis Court 2"
        ],
        [
         "Gerald Butters",
         "Tennis Court 1"
        ],
        [
         "Gerald Butters",
         "Tennis Court 2"
        ],
        [
         "Henrietta Rumney",
         "Tennis Court 2"
        ],
        [
         "Jack Smith",
         "Tennis Court 1"
        ],
        [
         "Jack Smith",
         "Tennis Court 2"
        ],
        [
         "Janice Joplette",
         "Tennis Court 1"
        ],
        [
         "Janice Joplette",
         "Tennis Court 2"
        ],
        [
         "Jemima Farrell",
         "Tennis Court 1"
        ],
        [
         "Jemima Farrell",
         "Tennis Court 2"
        ],
        [
         "Joan Coplin",
         "Tennis Court 1"
        ],
        [
         "John Hunt",
         "Tennis Court 1"
        ],
        [
         "John Hunt",
         "Tennis Court 2"
        ],
        [
         "Matthew Genting",
         "Tennis Court 1"
        ],
        [
         "Millicent Purview",
         "Tennis Court 2"
        ],
        [
         "Nancy Dare",
         "Tennis Court 1"
        ],
        [
         "Nancy Dare",
         "Tennis Court 2"
        ],
        [
         "Ponder Stibbons",
         "Tennis Court 1"
        ],
        [
         "Ponder Stibbons",
         "Tennis Court 2"
        ],
        [
         "Ramnaresh Sarwin",
         "Tennis Court 1"
        ],
        [
         "Ramnaresh Sarwin",
         "Tennis Court 2"
        ],
        [
         "Tim Boothe",
         "Tennis Court 1"
        ],
        [
         "Tim Boothe",
         "Tennis Court 2"
        ],
        [
         "Tim Rownam",
         "Tennis Court 1"
        ],
        [
         "Tim Rownam",
         "Tennis Court 2"
        ],
        [
         "Timothy Baker",
         "Tennis Court 1"
        ],
        [
         "Timothy Baker",
         "Tennis Court 2"
        ],
        [
         "Tracy Smith",
         "Tennis Court 1"
        ],
        [
         "Tracy Smith",
         "Tennis Court 2"
        ]
       ],
       "datasetInfos": [],
       "dbfsResultPath": null,
       "isJsonSchema": true,
       "metadata": {},
       "overflow": false,
       "plotOptions": {
        "customPlotOptions": {},
        "displayType": "table",
        "pivotAggregation": null,
        "pivotColumns": null,
        "xColumns": null,
        "yColumns": null
       },
       "removedWidgets": [],
       "schema": [
        {
         "metadata": "{}",
         "name": "member_name",
         "type": "\"string\""
        },
        {
         "metadata": "{}",
         "name": "facility_name",
         "type": "\"string\""
        }
       ],
       "type": "table"
      }
     },
     "output_type": "display_data"
    }
   ],
   "source": [
    "#4. Three Join\n",
    "used_tennis_courts = spark.sql(\"\"\"\n",
    "    SELECT DISTINCT \n",
    "        CONCAT(mems.firstname, ' ', mems.surname) AS member_name,\n",
    "        facs.name AS facility_name\n",
    "    FROM bookings bks\n",
    "    JOIN members mems ON bks.memid = mems.memid\n",
    "    JOIN facilities facs ON bks.facid = facs.facid\n",
    "    WHERE facs.name LIKE 'Tennis Court%'\n",
    "    ORDER BY member_name, facility_name\n",
    "\"\"\")\n",
    "display(used_tennis_courts)                     "
   ]
  },
  {
   "cell_type": "code",
   "execution_count": 0,
   "metadata": {
    "application/vnd.databricks.v1+cell": {
     "cellMetadata": {
      "byteLimit": 2048000,
      "rowLimit": 10000
     },
     "inputWidgets": {},
     "nuid": "4b3d6f99-a34c-4557-9493-c95d25863b86",
     "showTitle": false,
     "tableResultSettingsMap": {},
     "title": ""
    }
   },
   "outputs": [
    {
     "output_type": "display_data",
     "data": {
      "text/html": [
       "<style scoped>\n",
       "  .table-result-container {\n",
       "    max-height: 300px;\n",
       "    overflow: auto;\n",
       "  }\n",
       "  table, th, td {\n",
       "    border: 1px solid black;\n",
       "    border-collapse: collapse;\n",
       "  }\n",
       "  th, td {\n",
       "    padding: 5px;\n",
       "  }\n",
       "  th {\n",
       "    text-align: left;\n",
       "  }\n",
       "</style><div class='table-result-container'><table class='table-result'><thead style='background-color: white'><tr><th>member_name</th><th>recommender_name</th></tr></thead><tbody><tr><td>Anna Mackenzie</td><td>Darren Smith</td></tr><tr><td>Anne Baker</td><td>Ponder Stibbons</td></tr><tr><td>Burton Tracy</td><td>No recommender</td></tr><tr><td>Charles Owen</td><td>Darren Smith</td></tr><tr><td>Darren Smith</td><td>No recommender</td></tr><tr><td>David Farrell</td><td>No recommender</td></tr><tr><td>David Jones</td><td>Janice Joplette</td></tr><tr><td>David Pinker</td><td>Jemima Farrell</td></tr><tr><td>Douglas Jones</td><td>David Jones</td></tr><tr><td>Erica Crumpet</td><td>Tracy Smith</td></tr><tr><td>Florence Bader</td><td>Ponder Stibbons</td></tr><tr><td>GUEST GUEST</td><td>No recommender</td></tr><tr><td>Gerald Butters</td><td>Darren Smith</td></tr><tr><td>Henrietta Rumney</td><td>Matthew Genting</td></tr><tr><td>Henry Worthington-Smyth</td><td>Tracy Smith</td></tr><tr><td>Hyacinth Tupperware</td><td>No recommender</td></tr><tr><td>Jack Smith</td><td>Darren Smith</td></tr><tr><td>Janice Joplette</td><td>Darren Smith</td></tr><tr><td>Jemima Farrell</td><td>No recommender</td></tr><tr><td>Joan Coplin</td><td>Timothy Baker</td></tr><tr><td>John Hunt</td><td>Millicent Purview</td></tr><tr><td>Matthew Genting</td><td>Gerald Butters</td></tr><tr><td>Millicent Purview</td><td>Tracy Smith</td></tr><tr><td>Nancy Dare</td><td>Janice Joplette</td></tr><tr><td>Ponder Stibbons</td><td>Burton Tracy</td></tr><tr><td>Ramnaresh Sarwin</td><td>Florence Bader</td></tr><tr><td>Tim Boothe</td><td>Tim Rownam</td></tr><tr><td>Tim Rownam</td><td>No recommender</td></tr><tr><td>Timothy Baker</td><td>Jemima Farrell</td></tr><tr><td>Tracy Smith</td><td>No recommender</td></tr></tbody></table></div>"
      ]
     },
     "metadata": {
      "application/vnd.databricks.v1+output": {
       "addedWidgets": {},
       "aggData": [],
       "aggError": "",
       "aggOverflow": false,
       "aggSchema": [],
       "aggSeriesLimitReached": false,
       "aggType": "",
       "arguments": {},
       "columnCustomDisplayInfos": {},
       "data": [
        [
         "Anna Mackenzie",
         "Darren Smith"
        ],
        [
         "Anne Baker",
         "Ponder Stibbons"
        ],
        [
         "Burton Tracy",
         "No recommender"
        ],
        [
         "Charles Owen",
         "Darren Smith"
        ],
        [
         "Darren Smith",
         "No recommender"
        ],
        [
         "David Farrell",
         "No recommender"
        ],
        [
         "David Jones",
         "Janice Joplette"
        ],
        [
         "David Pinker",
         "Jemima Farrell"
        ],
        [
         "Douglas Jones",
         "David Jones"
        ],
        [
         "Erica Crumpet",
         "Tracy Smith"
        ],
        [
         "Florence Bader",
         "Ponder Stibbons"
        ],
        [
         "GUEST GUEST",
         "No recommender"
        ],
        [
         "Gerald Butters",
         "Darren Smith"
        ],
        [
         "Henrietta Rumney",
         "Matthew Genting"
        ],
        [
         "Henry Worthington-Smyth",
         "Tracy Smith"
        ],
        [
         "Hyacinth Tupperware",
         "No recommender"
        ],
        [
         "Jack Smith",
         "Darren Smith"
        ],
        [
         "Janice Joplette",
         "Darren Smith"
        ],
        [
         "Jemima Farrell",
         "No recommender"
        ],
        [
         "Joan Coplin",
         "Timothy Baker"
        ],
        [
         "John Hunt",
         "Millicent Purview"
        ],
        [
         "Matthew Genting",
         "Gerald Butters"
        ],
        [
         "Millicent Purview",
         "Tracy Smith"
        ],
        [
         "Nancy Dare",
         "Janice Joplette"
        ],
        [
         "Ponder Stibbons",
         "Burton Tracy"
        ],
        [
         "Ramnaresh Sarwin",
         "Florence Bader"
        ],
        [
         "Tim Boothe",
         "Tim Rownam"
        ],
        [
         "Tim Rownam",
         "No recommender"
        ],
        [
         "Timothy Baker",
         "Jemima Farrell"
        ],
        [
         "Tracy Smith",
         "No recommender"
        ]
       ],
       "datasetInfos": [],
       "dbfsResultPath": null,
       "isJsonSchema": true,
       "metadata": {},
       "overflow": false,
       "plotOptions": {
        "customPlotOptions": {},
        "displayType": "table",
        "pivotAggregation": null,
        "pivotColumns": null,
        "xColumns": null,
        "yColumns": null
       },
       "removedWidgets": [],
       "schema": [
        {
         "metadata": "{}",
         "name": "member_name",
         "type": "\"string\""
        },
        {
         "metadata": "{}",
         "name": "recommender_name",
         "type": "\"string\""
        }
       ],
       "type": "table"
      }
     },
     "output_type": "display_data"
    }
   ],
   "source": [
    "#5. Subquery and join\n",
    "\n",
    "recommenders_list = spark.sql(\"\"\"\n",
    "    SELECT DISTINCT\n",
    "        CONCAT(mems.firstname, ' ', mems.surname) AS member_name,\n",
    "        COALESCE(CONCAT(recs.firstname, ' ', recs.surname), 'No recommender') AS recommender_name\n",
    "    FROM members mems\n",
    "    LEFT JOIN members recs ON mems.recommendedby = recs.memid\n",
    "    ORDER BY member_name\n",
    "\"\"\")\n",
    "display(recommenders_list)\n",
    "\n"
   ]
  },
  {
   "cell_type": "markdown",
   "metadata": {
    "application/vnd.databricks.v1+cell": {
     "cellMetadata": {
      "byteLimit": 2048000,
      "rowLimit": 10000
     },
     "inputWidgets": {},
     "nuid": "729f0a81-b3e4-48aa-9c02-cdbd133f2370",
     "showTitle": false,
     "tableResultSettingsMap": {},
     "title": ""
    }
   },
   "source": [
    "AGGREGATION"
   ]
  },
  {
   "cell_type": "code",
   "execution_count": 0,
   "metadata": {
    "application/vnd.databricks.v1+cell": {
     "cellMetadata": {
      "byteLimit": 2048000,
      "rowLimit": 10000
     },
     "inputWidgets": {},
     "nuid": "b0303338-de74-4c8c-ae9a-3eb417fa55ee",
     "showTitle": false,
     "tableResultSettingsMap": {},
     "title": ""
    }
   },
   "outputs": [
    {
     "output_type": "display_data",
     "data": {
      "text/html": [
       "<style scoped>\n",
       "  .table-result-container {\n",
       "    max-height: 300px;\n",
       "    overflow: auto;\n",
       "  }\n",
       "  table, th, td {\n",
       "    border: 1px solid black;\n",
       "    border-collapse: collapse;\n",
       "  }\n",
       "  th, td {\n",
       "    padding: 5px;\n",
       "  }\n",
       "  th {\n",
       "    text-align: left;\n",
       "  }\n",
       "</style><div class='table-result-container'><table class='table-result'><thead style='background-color: white'><tr><th>member_id</th><th>recommendation_count</th></tr></thead><tbody><tr><td>1</td><td>5</td></tr><tr><td>2</td><td>3</td></tr><tr><td>3</td><td>1</td></tr><tr><td>4</td><td>2</td></tr><tr><td>5</td><td>1</td></tr><tr><td>6</td><td>1</td></tr><tr><td>9</td><td>2</td></tr><tr><td>11</td><td>1</td></tr><tr><td>13</td><td>2</td></tr><tr><td>15</td><td>1</td></tr><tr><td>16</td><td>1</td></tr><tr><td>20</td><td>1</td></tr><tr><td>30</td><td>1</td></tr></tbody></table></div>"
      ]
     },
     "metadata": {
      "application/vnd.databricks.v1+output": {
       "addedWidgets": {},
       "aggData": [],
       "aggError": "",
       "aggOverflow": false,
       "aggSchema": [],
       "aggSeriesLimitReached": false,
       "aggType": "",
       "arguments": {},
       "columnCustomDisplayInfos": {},
       "data": [
        [
         1,
         5
        ],
        [
         2,
         3
        ],
        [
         3,
         1
        ],
        [
         4,
         2
        ],
        [
         5,
         1
        ],
        [
         6,
         1
        ],
        [
         9,
         2
        ],
        [
         11,
         1
        ],
        [
         13,
         2
        ],
        [
         15,
         1
        ],
        [
         16,
         1
        ],
        [
         20,
         1
        ],
        [
         30,
         1
        ]
       ],
       "datasetInfos": [],
       "dbfsResultPath": null,
       "isJsonSchema": true,
       "metadata": {},
       "overflow": false,
       "plotOptions": {
        "customPlotOptions": {},
        "displayType": "table",
        "pivotAggregation": null,
        "pivotColumns": null,
        "xColumns": null,
        "yColumns": null
       },
       "removedWidgets": [],
       "schema": [
        {
         "metadata": "{}",
         "name": "member_id",
         "type": "\"integer\""
        },
        {
         "metadata": "{}",
         "name": "recommendation_count",
         "type": "\"long\""
        }
       ],
       "type": "table"
      }
     },
     "output_type": "display_data"
    }
   ],
   "source": [
    "#1 GROUP BY, ORDER BY\n",
    "\n",
    "recommendation_count = spark.sql(\"\"\"\n",
    "    SELECT recommendedby AS member_id, COUNT(*) AS recommendation_count\n",
    "    FROM members\n",
    "    WHERE recommendedby IS NOT NULL\n",
    "    GROUP BY recommendedby\n",
    "    ORDER BY member_id\n",
    "\"\"\")\n",
    "display(recommendation_count)\n"
   ]
  },
  {
   "cell_type": "code",
   "execution_count": 0,
   "metadata": {
    "application/vnd.databricks.v1+cell": {
     "cellMetadata": {
      "byteLimit": 2048000,
      "rowLimit": 10000
     },
     "inputWidgets": {},
     "nuid": "602c8248-db47-4873-9eb9-32c5b2ffb1ef",
     "showTitle": false,
     "tableResultSettingsMap": {},
     "title": ""
    }
   },
   "outputs": [
    {
     "output_type": "display_data",
     "data": {
      "text/html": [
       "<style scoped>\n",
       "  .table-result-container {\n",
       "    max-height: 300px;\n",
       "    overflow: auto;\n",
       "  }\n",
       "  table, th, td {\n",
       "    border: 1px solid black;\n",
       "    border-collapse: collapse;\n",
       "  }\n",
       "  th, td {\n",
       "    padding: 5px;\n",
       "  }\n",
       "  th {\n",
       "    text-align: left;\n",
       "  }\n",
       "</style><div class='table-result-container'><table class='table-result'><thead style='background-color: white'><tr><th>facility_id</th><th>total_slots</th></tr></thead><tbody><tr><td>0</td><td>1320</td></tr><tr><td>1</td><td>1278</td></tr><tr><td>2</td><td>1209</td></tr><tr><td>3</td><td>830</td></tr><tr><td>4</td><td>1404</td></tr><tr><td>5</td><td>228</td></tr><tr><td>6</td><td>1104</td></tr><tr><td>7</td><td>908</td></tr><tr><td>8</td><td>911</td></tr></tbody></table></div>"
      ]
     },
     "metadata": {
      "application/vnd.databricks.v1+output": {
       "addedWidgets": {},
       "aggData": [],
       "aggError": "",
       "aggOverflow": false,
       "aggSchema": [],
       "aggSeriesLimitReached": false,
       "aggType": "",
       "arguments": {},
       "columnCustomDisplayInfos": {},
       "data": [
        [
         0,
         1320
        ],
        [
         1,
         1278
        ],
        [
         2,
         1209
        ],
        [
         3,
         830
        ],
        [
         4,
         1404
        ],
        [
         5,
         228
        ],
        [
         6,
         1104
        ],
        [
         7,
         908
        ],
        [
         8,
         911
        ]
       ],
       "datasetInfos": [],
       "dbfsResultPath": null,
       "isJsonSchema": true,
       "metadata": {},
       "overflow": false,
       "plotOptions": {
        "customPlotOptions": {},
        "displayType": "table",
        "pivotAggregation": null,
        "pivotColumns": null,
        "xColumns": null,
        "yColumns": null
       },
       "removedWidgets": [],
       "schema": [
        {
         "metadata": "{}",
         "name": "facility_id",
         "type": "\"integer\""
        },
        {
         "metadata": "{}",
         "name": "total_slots",
         "type": "\"long\""
        }
       ],
       "type": "table"
      }
     },
     "output_type": "display_data"
    }
   ],
   "source": [
    "#2 \n",
    "\n",
    "slots_per_facility = spark.sql(\"\"\"\n",
    "    SELECT facid AS facility_id, SUM(slots) AS total_slots\n",
    "    FROM bookings\n",
    "    GROUP BY facid\n",
    "    ORDER BY facility_id\n",
    "\"\"\")\n",
    "display(slots_per_facility)\n"
   ]
  },
  {
   "cell_type": "code",
   "execution_count": 0,
   "metadata": {
    "application/vnd.databricks.v1+cell": {
     "cellMetadata": {
      "byteLimit": 2048000,
      "rowLimit": 10000
     },
     "inputWidgets": {},
     "nuid": "6320e18f-8003-41b4-8c16-df6151b489e7",
     "showTitle": false,
     "tableResultSettingsMap": {},
     "title": ""
    }
   },
   "outputs": [
    {
     "output_type": "display_data",
     "data": {
      "text/html": [
       "<style scoped>\n",
       "  .table-result-container {\n",
       "    max-height: 300px;\n",
       "    overflow: auto;\n",
       "  }\n",
       "  table, th, td {\n",
       "    border: 1px solid black;\n",
       "    border-collapse: collapse;\n",
       "  }\n",
       "  th, td {\n",
       "    padding: 5px;\n",
       "  }\n",
       "  th {\n",
       "    text-align: left;\n",
       "  }\n",
       "</style><div class='table-result-container'><table class='table-result'><thead style='background-color: white'><tr><th>facility_id</th><th>total_slots</th></tr></thead><tbody><tr><td>4</td><td>648</td></tr><tr><td>0</td><td>591</td></tr><tr><td>1</td><td>588</td></tr><tr><td>2</td><td>570</td></tr><tr><td>6</td><td>540</td></tr><tr><td>8</td><td>471</td></tr><tr><td>7</td><td>426</td></tr><tr><td>3</td><td>422</td></tr><tr><td>5</td><td>122</td></tr></tbody></table></div>"
      ]
     },
     "metadata": {
      "application/vnd.databricks.v1+output": {
       "addedWidgets": {},
       "aggData": [],
       "aggError": "",
       "aggOverflow": false,
       "aggSchema": [],
       "aggSeriesLimitReached": false,
       "aggType": "",
       "arguments": {},
       "columnCustomDisplayInfos": {},
       "data": [
        [
         4,
         648
        ],
        [
         0,
         591
        ],
        [
         1,
         588
        ],
        [
         2,
         570
        ],
        [
         6,
         540
        ],
        [
         8,
         471
        ],
        [
         7,
         426
        ],
        [
         3,
         422
        ],
        [
         5,
         122
        ]
       ],
       "datasetInfos": [],
       "dbfsResultPath": null,
       "isJsonSchema": true,
       "metadata": {},
       "overflow": false,
       "plotOptions": {
        "customPlotOptions": {},
        "displayType": "table",
        "pivotAggregation": null,
        "pivotColumns": null,
        "xColumns": null,
        "yColumns": null
       },
       "removedWidgets": [],
       "schema": [
        {
         "metadata": "{}",
         "name": "facility_id",
         "type": "\"integer\""
        },
        {
         "metadata": "{}",
         "name": "total_slots",
         "type": "\"long\""
        }
       ],
       "type": "table"
      }
     },
     "output_type": "display_data"
    }
   ],
   "source": [
    "#3 with condition\n",
    "\n",
    "slots_per_facility_september = spark.sql(\"\"\"\n",
    "    SELECT facid AS facility_id, SUM(slots) AS total_slots\n",
    "    FROM bookings\n",
    "    WHERE starttime >= '2012-09-01' AND starttime < '2012-10-01'\n",
    "    GROUP BY facid\n",
    "    ORDER BY total_slots DESC\n",
    "\"\"\")\n",
    "display(slots_per_facility_september)\n"
   ]
  },
  {
   "cell_type": "code",
   "execution_count": 0,
   "metadata": {
    "application/vnd.databricks.v1+cell": {
     "cellMetadata": {
      "byteLimit": 2048000,
      "rowLimit": 10000
     },
     "inputWidgets": {},
     "nuid": "54025862-e8a5-4ea5-96f2-e6abecea3e4d",
     "showTitle": false,
     "tableResultSettingsMap": {},
     "title": ""
    }
   },
   "outputs": [
    {
     "output_type": "display_data",
     "data": {
      "text/html": [
       "<style scoped>\n",
       "  .table-result-container {\n",
       "    max-height: 300px;\n",
       "    overflow: auto;\n",
       "  }\n",
       "  table, th, td {\n",
       "    border: 1px solid black;\n",
       "    border-collapse: collapse;\n",
       "  }\n",
       "  th, td {\n",
       "    padding: 5px;\n",
       "  }\n",
       "  th {\n",
       "    text-align: left;\n",
       "  }\n",
       "</style><div class='table-result-container'><table class='table-result'><thead style='background-color: white'><tr><th>facility_id</th><th>year</th><th>month</th><th>total_slots</th></tr></thead><tbody><tr><td>0</td><td>2012</td><td>7</td><td>270</td></tr><tr><td>0</td><td>2012</td><td>8</td><td>459</td></tr><tr><td>0</td><td>2012</td><td>9</td><td>591</td></tr><tr><td>1</td><td>2012</td><td>7</td><td>207</td></tr><tr><td>1</td><td>2012</td><td>8</td><td>483</td></tr><tr><td>1</td><td>2012</td><td>9</td><td>588</td></tr><tr><td>2</td><td>2012</td><td>7</td><td>180</td></tr><tr><td>2</td><td>2012</td><td>8</td><td>459</td></tr><tr><td>2</td><td>2012</td><td>9</td><td>570</td></tr><tr><td>3</td><td>2012</td><td>7</td><td>104</td></tr><tr><td>3</td><td>2012</td><td>8</td><td>304</td></tr><tr><td>3</td><td>2012</td><td>9</td><td>422</td></tr><tr><td>4</td><td>2012</td><td>7</td><td>264</td></tr><tr><td>4</td><td>2012</td><td>8</td><td>492</td></tr><tr><td>4</td><td>2012</td><td>9</td><td>648</td></tr><tr><td>5</td><td>2012</td><td>7</td><td>24</td></tr><tr><td>5</td><td>2012</td><td>8</td><td>82</td></tr><tr><td>5</td><td>2012</td><td>9</td><td>122</td></tr><tr><td>6</td><td>2012</td><td>7</td><td>164</td></tr><tr><td>6</td><td>2012</td><td>8</td><td>400</td></tr><tr><td>6</td><td>2012</td><td>9</td><td>540</td></tr><tr><td>7</td><td>2012</td><td>7</td><td>156</td></tr><tr><td>7</td><td>2012</td><td>8</td><td>326</td></tr><tr><td>7</td><td>2012</td><td>9</td><td>426</td></tr><tr><td>8</td><td>2012</td><td>7</td><td>117</td></tr><tr><td>8</td><td>2012</td><td>8</td><td>322</td></tr><tr><td>8</td><td>2012</td><td>9</td><td>471</td></tr></tbody></table></div>"
      ]
     },
     "metadata": {
      "application/vnd.databricks.v1+output": {
       "addedWidgets": {},
       "aggData": [],
       "aggError": "",
       "aggOverflow": false,
       "aggSchema": [],
       "aggSeriesLimitReached": false,
       "aggType": "",
       "arguments": {},
       "columnCustomDisplayInfos": {},
       "data": [
        [
         0,
         2012,
         7,
         270
        ],
        [
         0,
         2012,
         8,
         459
        ],
        [
         0,
         2012,
         9,
         591
        ],
        [
         1,
         2012,
         7,
         207
        ],
        [
         1,
         2012,
         8,
         483
        ],
        [
         1,
         2012,
         9,
         588
        ],
        [
         2,
         2012,
         7,
         180
        ],
        [
         2,
         2012,
         8,
         459
        ],
        [
         2,
         2012,
         9,
         570
        ],
        [
         3,
         2012,
         7,
         104
        ],
        [
         3,
         2012,
         8,
         304
        ],
        [
         3,
         2012,
         9,
         422
        ],
        [
         4,
         2012,
         7,
         264
        ],
        [
         4,
         2012,
         8,
         492
        ],
        [
         4,
         2012,
         9,
         648
        ],
        [
         5,
         2012,
         7,
         24
        ],
        [
         5,
         2012,
         8,
         82
        ],
        [
         5,
         2012,
         9,
         122
        ],
        [
         6,
         2012,
         7,
         164
        ],
        [
         6,
         2012,
         8,
         400
        ],
        [
         6,
         2012,
         9,
         540
        ],
        [
         7,
         2012,
         7,
         156
        ],
        [
         7,
         2012,
         8,
         326
        ],
        [
         7,
         2012,
         9,
         426
        ],
        [
         8,
         2012,
         7,
         117
        ],
        [
         8,
         2012,
         8,
         322
        ],
        [
         8,
         2012,
         9,
         471
        ]
       ],
       "datasetInfos": [],
       "dbfsResultPath": null,
       "isJsonSchema": true,
       "metadata": {},
       "overflow": false,
       "plotOptions": {
        "customPlotOptions": {},
        "displayType": "table",
        "pivotAggregation": null,
        "pivotColumns": null,
        "xColumns": null,
        "yColumns": null
       },
       "removedWidgets": [],
       "schema": [
        {
         "metadata": "{}",
         "name": "facility_id",
         "type": "\"integer\""
        },
        {
         "metadata": "{}",
         "name": "year",
         "type": "\"integer\""
        },
        {
         "metadata": "{}",
         "name": "month",
         "type": "\"integer\""
        },
        {
         "metadata": "{}",
         "name": "total_slots",
         "type": "\"long\""
        }
       ],
       "type": "table"
      }
     },
     "output_type": "display_data"
    }
   ],
   "source": [
    "#4 \n",
    "slots_per_facility_per_month_2012 = spark.sql(\"\"\"\n",
    "    SELECT facid AS facility_id, \n",
    "           YEAR(starttime) AS year, \n",
    "           MONTH(starttime) AS month, \n",
    "           SUM(slots) AS total_slots\n",
    "    FROM bookings\n",
    "    WHERE YEAR(starttime) = 2012\n",
    "    GROUP BY facid, YEAR(starttime), MONTH(starttime)\n",
    "    ORDER BY facility_id, month\n",
    "\"\"\")\n",
    "display(slots_per_facility_per_month_2012)"
   ]
  },
  {
   "cell_type": "code",
   "execution_count": 0,
   "metadata": {
    "application/vnd.databricks.v1+cell": {
     "cellMetadata": {
      "byteLimit": 2048000,
      "rowLimit": 10000
     },
     "inputWidgets": {},
     "nuid": "ee13671b-b8f3-4fbb-98f2-465bf111aee4",
     "showTitle": false,
     "tableResultSettingsMap": {},
     "title": ""
    }
   },
   "outputs": [
    {
     "output_type": "stream",
     "name": "stdout",
     "output_type": "stream",
     "text": [
      "+-------------+\n|total_members|\n+-------------+\n|           30|\n+-------------+\n\n"
     ]
    }
   ],
   "source": [
    "#5 \n",
    "\n",
    "total_members_with_bookings = spark.sql(\"\"\"\n",
    "    SELECT COUNT(DISTINCT memid) AS total_members\n",
    "    FROM bookings\n",
    "\"\"\")\n",
    "total_members_with_bookings.show()\n"
   ]
  },
  {
   "cell_type": "code",
   "execution_count": 0,
   "metadata": {
    "application/vnd.databricks.v1+cell": {
     "cellMetadata": {
      "byteLimit": 2048000,
      "rowLimit": 10000
     },
     "inputWidgets": {},
     "nuid": "faa34232-5144-4d7b-bfc1-5ea46bf1e567",
     "showTitle": false,
     "tableResultSettingsMap": {},
     "title": ""
    }
   },
   "outputs": [
    {
     "output_type": "stream",
     "name": "stdout",
     "output_type": "stream",
     "text": [
      "+-----+---------------+-------------------+\n|memid|    member_name| first_booking_date|\n+-----+---------------+-------------------+\n|    0|    GUEST GUEST|2012-09-01 08:00:00|\n|    1|   Darren Smith|2012-09-01 09:00:00|\n|    2|    Tracy Smith|2012-09-01 11:30:00|\n|    3|     Tim Rownam|2012-09-01 16:00:00|\n|    4|Janice Joplette|2012-09-01 15:00:00|\n|    5| Gerald Butters|2012-09-02 12:30:00|\n|    6|   Burton Tracy|2012-09-01 15:00:00|\n|    7|     Nancy Dare|2012-09-01 12:30:00|\n|    8|     Tim Boothe|2012-09-01 08:30:00|\n|    9|Ponder Stibbons|2012-09-01 11:00:00|\n|   10|   Charles Owen|2012-09-01 11:00:00|\n|   11|    David Jones|2012-09-01 09:30:00|\n|   12|     Anne Baker|2012-09-01 14:30:00|\n|   13| Jemima Farrell|2012-09-01 09:30:00|\n|   14|     Jack Smith|2012-09-01 11:00:00|\n|   15| Florence Bader|2012-09-01 10:30:00|\n|   16|  Timothy Baker|2012-09-01 15:00:00|\n|   17|   David Pinker|2012-09-01 08:30:00|\n|   20|Matthew Genting|2012-09-01 18:00:00|\n|   21| Anna Mackenzie|2012-09-01 08:30:00|\n+-----+---------------+-------------------+\nonly showing top 20 rows\n\n"
     ]
    }
   ],
   "source": [
    "#6\n",
    "\n",
    "first_booking_after_september = spark.sql(\"\"\"\n",
    "    SELECT mems.memid, \n",
    "           CONCAT(mems.firstname, ' ', mems.surname) AS member_name, \n",
    "           MIN(bks.starttime) AS first_booking_date\n",
    "    FROM members mems\n",
    "    JOIN bookings bks ON mems.memid = bks.memid\n",
    "    WHERE bks.starttime > '2012-09-01'\n",
    "    GROUP BY mems.memid, mems.firstname, mems.surname\n",
    "    ORDER BY mems.memid\n",
    "\"\"\")\n",
    "first_booking_after_september.show()\n"
   ]
  },
  {
   "cell_type": "markdown",
   "metadata": {
    "application/vnd.databricks.v1+cell": {
     "cellMetadata": {
      "byteLimit": 2048000,
      "rowLimit": 10000
     },
     "inputWidgets": {},
     "nuid": "35f949c4-5807-42b9-a9f1-5d84c6363b23",
     "showTitle": false,
     "tableResultSettingsMap": {},
     "title": ""
    }
   },
   "source": [
    "STRING AND DATE"
   ]
  },
  {
   "cell_type": "code",
   "execution_count": 0,
   "metadata": {
    "application/vnd.databricks.v1+cell": {
     "cellMetadata": {
      "byteLimit": 2048000,
      "rowLimit": 10000
     },
     "inputWidgets": {},
     "nuid": "70ba69d1-3c4e-4655-96a7-7759c4592d16",
     "showTitle": false,
     "tableResultSettingsMap": {},
     "title": ""
    }
   },
   "outputs": [
    {
     "output_type": "display_data",
     "data": {
      "text/html": [
       "<style scoped>\n",
       "  .table-result-container {\n",
       "    max-height: 300px;\n",
       "    overflow: auto;\n",
       "  }\n",
       "  table, th, td {\n",
       "    border: 1px solid black;\n",
       "    border-collapse: collapse;\n",
       "  }\n",
       "  th, td {\n",
       "    padding: 5px;\n",
       "  }\n",
       "  th {\n",
       "    text-align: left;\n",
       "  }\n",
       "</style><div class='table-result-container'><table class='table-result'><thead style='background-color: white'><tr><th>name</th></tr></thead><tbody><tr><td>GUEST, GUEST</td></tr><tr><td>Smith, Darren</td></tr><tr><td>Smith, Tracy</td></tr><tr><td>Rownam, Tim</td></tr><tr><td>Joplette, Janice</td></tr><tr><td>Butters, Gerald</td></tr><tr><td>Tracy, Burton</td></tr><tr><td>Dare, Nancy</td></tr><tr><td>Boothe, Tim</td></tr><tr><td>Stibbons, Ponder</td></tr><tr><td>Owen, Charles</td></tr><tr><td>Jones, David</td></tr><tr><td>Baker, Anne</td></tr><tr><td>Farrell, Jemima</td></tr><tr><td>Smith, Jack</td></tr><tr><td>Bader, Florence</td></tr><tr><td>Baker, Timothy</td></tr><tr><td>Pinker, David</td></tr><tr><td>Genting, Matthew</td></tr><tr><td>Mackenzie, Anna</td></tr><tr><td>Coplin, Joan</td></tr><tr><td>Sarwin, Ramnaresh</td></tr><tr><td>Jones, Douglas</td></tr><tr><td>Rumney, Henrietta</td></tr><tr><td>Farrell, David</td></tr><tr><td>Worthington-Smyth, Henry</td></tr><tr><td>Purview, Millicent</td></tr><tr><td>Tupperware, Hyacinth</td></tr><tr><td>Hunt, John</td></tr><tr><td>Crumpet, Erica</td></tr><tr><td>Smith, Darren</td></tr></tbody></table></div>"
      ]
     },
     "metadata": {
      "application/vnd.databricks.v1+output": {
       "addedWidgets": {},
       "aggData": [],
       "aggError": "",
       "aggOverflow": false,
       "aggSchema": [],
       "aggSeriesLimitReached": false,
       "aggType": "",
       "arguments": {},
       "columnCustomDisplayInfos": {},
       "data": [
        [
         "GUEST, GUEST"
        ],
        [
         "Smith, Darren"
        ],
        [
         "Smith, Tracy"
        ],
        [
         "Rownam, Tim"
        ],
        [
         "Joplette, Janice"
        ],
        [
         "Butters, Gerald"
        ],
        [
         "Tracy, Burton"
        ],
        [
         "Dare, Nancy"
        ],
        [
         "Boothe, Tim"
        ],
        [
         "Stibbons, Ponder"
        ],
        [
         "Owen, Charles"
        ],
        [
         "Jones, David"
        ],
        [
         "Baker, Anne"
        ],
        [
         "Farrell, Jemima"
        ],
        [
         "Smith, Jack"
        ],
        [
         "Bader, Florence"
        ],
        [
         "Baker, Timothy"
        ],
        [
         "Pinker, David"
        ],
        [
         "Genting, Matthew"
        ],
        [
         "Mackenzie, Anna"
        ],
        [
         "Coplin, Joan"
        ],
        [
         "Sarwin, Ramnaresh"
        ],
        [
         "Jones, Douglas"
        ],
        [
         "Rumney, Henrietta"
        ],
        [
         "Farrell, David"
        ],
        [
         "Worthington-Smyth, Henry"
        ],
        [
         "Purview, Millicent"
        ],
        [
         "Tupperware, Hyacinth"
        ],
        [
         "Hunt, John"
        ],
        [
         "Crumpet, Erica"
        ],
        [
         "Smith, Darren"
        ]
       ],
       "datasetInfos": [],
       "dbfsResultPath": null,
       "isJsonSchema": true,
       "metadata": {},
       "overflow": false,
       "plotOptions": {
        "customPlotOptions": {},
        "displayType": "table",
        "pivotAggregation": null,
        "pivotColumns": null,
        "xColumns": null,
        "yColumns": null
       },
       "removedWidgets": [],
       "schema": [
        {
         "metadata": "{}",
         "name": "name",
         "type": "\"string\""
        }
       ],
       "type": "table"
      }
     },
     "output_type": "display_data"
    }
   ],
   "source": [
    "#1 \n",
    "\n",
    "members_names = spark.sql(\"\"\"\n",
    "    SELECT CONCAT(surname, ', ', firstname) AS name\n",
    "    FROM members\n",
    "\"\"\")\n",
    "display(members_names)\n"
   ]
  },
  {
   "cell_type": "code",
   "execution_count": 0,
   "metadata": {
    "application/vnd.databricks.v1+cell": {
     "cellMetadata": {
      "byteLimit": 2048000,
      "rowLimit": 10000
     },
     "inputWidgets": {},
     "nuid": "fe1b90c7-9fbf-4e58-8541-f12e20e88958",
     "showTitle": false,
     "tableResultSettingsMap": {},
     "title": ""
    }
   },
   "outputs": [
    {
     "output_type": "display_data",
     "data": {
      "text/html": [
       "<style scoped>\n",
       "  .table-result-container {\n",
       "    max-height: 300px;\n",
       "    overflow: auto;\n",
       "  }\n",
       "  table, th, td {\n",
       "    border: 1px solid black;\n",
       "    border-collapse: collapse;\n",
       "  }\n",
       "  th, td {\n",
       "    padding: 5px;\n",
       "  }\n",
       "  th {\n",
       "    text-align: left;\n",
       "  }\n",
       "</style><div class='table-result-container'><table class='table-result'><thead style='background-color: white'><tr><th>facid</th><th>name</th><th>membercost</th><th>guestcost</th><th>initialoutlay</th><th>monthlymaintenance</th></tr></thead><tbody><tr><td>0</td><td>Tennis Court 1</td><td>5.00</td><td>25.00</td><td>10000.00</td><td>200.00</td></tr><tr><td>1</td><td>Tennis Court 2</td><td>5.00</td><td>25.00</td><td>8000.00</td><td>200.00</td></tr></tbody></table></div>"
      ]
     },
     "metadata": {
      "application/vnd.databricks.v1+output": {
       "addedWidgets": {},
       "aggData": [],
       "aggError": "",
       "aggOverflow": false,
       "aggSchema": [],
       "aggSeriesLimitReached": false,
       "aggType": "",
       "arguments": {},
       "columnCustomDisplayInfos": {},
       "data": [
        [
         0,
         "Tennis Court 1",
         "5.00",
         "25.00",
         "10000.00",
         "200.00"
        ],
        [
         1,
         "Tennis Court 2",
         "5.00",
         "25.00",
         "8000.00",
         "200.00"
        ]
       ],
       "datasetInfos": [],
       "dbfsResultPath": null,
       "isJsonSchema": true,
       "metadata": {},
       "overflow": false,
       "plotOptions": {
        "customPlotOptions": {},
        "displayType": "table",
        "pivotAggregation": null,
        "pivotColumns": null,
        "xColumns": null,
        "yColumns": null
       },
       "removedWidgets": [],
       "schema": [
        {
         "metadata": "{}",
         "name": "facid",
         "type": "\"integer\""
        },
        {
         "metadata": "{}",
         "name": "name",
         "type": "\"string\""
        },
        {
         "metadata": "{}",
         "name": "membercost",
         "type": "\"decimal(10,2)\""
        },
        {
         "metadata": "{}",
         "name": "guestcost",
         "type": "\"decimal(10,2)\""
        },
        {
         "metadata": "{}",
         "name": "initialoutlay",
         "type": "\"decimal(10,2)\""
        },
        {
         "metadata": "{}",
         "name": "monthlymaintenance",
         "type": "\"decimal(10,2)\""
        }
       ],
       "type": "table"
      }
     },
     "output_type": "display_data"
    }
   ],
   "source": [
    "#2 \n",
    "\n",
    "facilities_tennis = spark.sql(\"\"\"\n",
    "    SELECT *\n",
    "    FROM facilities\n",
    "    WHERE name ILIKE 'tennis%'\n",
    "\"\"\")\n",
    "display(facilities_tennis)\n"
   ]
  },
  {
   "cell_type": "code",
   "execution_count": 0,
   "metadata": {
    "application/vnd.databricks.v1+cell": {
     "cellMetadata": {
      "byteLimit": 2048000,
      "rowLimit": 10000
     },
     "inputWidgets": {},
     "nuid": "9db4c13f-40c0-4430-80b9-2815e5328fe8",
     "showTitle": false,
     "tableResultSettingsMap": {},
     "title": ""
    }
   },
   "outputs": [
    {
     "output_type": "display_data",
     "data": {
      "text/html": [
       "<style scoped>\n",
       "  .table-result-container {\n",
       "    max-height: 300px;\n",
       "    overflow: auto;\n",
       "  }\n",
       "  table, th, td {\n",
       "    border: 1px solid black;\n",
       "    border-collapse: collapse;\n",
       "  }\n",
       "  th, td {\n",
       "    padding: 5px;\n",
       "  }\n",
       "  th {\n",
       "    text-align: left;\n",
       "  }\n",
       "</style><div class='table-result-container'><table class='table-result'><thead style='background-color: white'><tr><th>memid</th><th>telephone</th></tr></thead><tbody><tr><td>0</td><td>(000) 000-0000</td></tr><tr><td>1</td><td>555-555-5555</td></tr><tr><td>2</td><td>555-555-5555</td></tr><tr><td>3</td><td>(844) 693-0723</td></tr><tr><td>4</td><td>(833) 942-4710</td></tr><tr><td>5</td><td>(844) 078-4130</td></tr><tr><td>6</td><td>(822) 354-9973</td></tr><tr><td>7</td><td>(833) 776-4001</td></tr><tr><td>8</td><td>(811) 433-2547</td></tr><tr><td>9</td><td>(833) 160-3900</td></tr><tr><td>10</td><td>(855) 542-5251</td></tr><tr><td>11</td><td>(844) 536-8036</td></tr><tr><td>12</td><td>844-076-5141</td></tr><tr><td>13</td><td>(855) 016-0163</td></tr><tr><td>14</td><td>(822) 163-3254</td></tr><tr><td>15</td><td>(833) 499-3527</td></tr><tr><td>16</td><td>833-941-0824</td></tr><tr><td>17</td><td>811 409-6734</td></tr><tr><td>20</td><td>(811) 972-1377</td></tr><tr><td>21</td><td>(822) 661-2898</td></tr><tr><td>22</td><td>(822) 499-2232</td></tr><tr><td>24</td><td>(822) 413-1470</td></tr><tr><td>26</td><td>844 536-8036</td></tr><tr><td>27</td><td>(822) 989-8876</td></tr><tr><td>28</td><td>(855) 755-9876</td></tr><tr><td>29</td><td>(855) 894-3758</td></tr><tr><td>30</td><td>(855) 941-9786</td></tr><tr><td>33</td><td>(822) 665-5327</td></tr><tr><td>35</td><td>(899) 720-6978</td></tr><tr><td>36</td><td>(811) 732-4816</td></tr><tr><td>37</td><td>(822) 577-3541</td></tr></tbody></table></div>"
      ]
     },
     "metadata": {
      "application/vnd.databricks.v1+output": {
       "addedWidgets": {},
       "aggData": [],
       "aggError": "",
       "aggOverflow": false,
       "aggSchema": [],
       "aggSeriesLimitReached": false,
       "aggType": "",
       "arguments": {},
       "columnCustomDisplayInfos": {},
       "data": [
        [
         0,
         "(000) 000-0000"
        ],
        [
         1,
         "555-555-5555"
        ],
        [
         2,
         "555-555-5555"
        ],
        [
         3,
         "(844) 693-0723"
        ],
        [
         4,
         "(833) 942-4710"
        ],
        [
         5,
         "(844) 078-4130"
        ],
        [
         6,
         "(822) 354-9973"
        ],
        [
         7,
         "(833) 776-4001"
        ],
        [
         8,
         "(811) 433-2547"
        ],
        [
         9,
         "(833) 160-3900"
        ],
        [
         10,
         "(855) 542-5251"
        ],
        [
         11,
         "(844) 536-8036"
        ],
        [
         12,
         "844-076-5141"
        ],
        [
         13,
         "(855) 016-0163"
        ],
        [
         14,
         "(822) 163-3254"
        ],
        [
         15,
         "(833) 499-3527"
        ],
        [
         16,
         "833-941-0824"
        ],
        [
         17,
         "811 409-6734"
        ],
        [
         20,
         "(811) 972-1377"
        ],
        [
         21,
         "(822) 661-2898"
        ],
        [
         22,
         "(822) 499-2232"
        ],
        [
         24,
         "(822) 413-1470"
        ],
        [
         26,
         "844 536-8036"
        ],
        [
         27,
         "(822) 989-8876"
        ],
        [
         28,
         "(855) 755-9876"
        ],
        [
         29,
         "(855) 894-3758"
        ],
        [
         30,
         "(855) 941-9786"
        ],
        [
         33,
         "(822) 665-5327"
        ],
        [
         35,
         "(899) 720-6978"
        ],
        [
         36,
         "(811) 732-4816"
        ],
        [
         37,
         "(822) 577-3541"
        ]
       ],
       "datasetInfos": [],
       "dbfsResultPath": null,
       "isJsonSchema": true,
       "metadata": {},
       "overflow": false,
       "plotOptions": {
        "customPlotOptions": {},
        "displayType": "table",
        "pivotAggregation": null,
        "pivotColumns": null,
        "xColumns": null,
        "yColumns": null
       },
       "removedWidgets": [],
       "schema": [
        {
         "metadata": "{}",
         "name": "memid",
         "type": "\"integer\""
        },
        {
         "metadata": "{}",
         "name": "telephone",
         "type": "\"string\""
        }
       ],
       "type": "table"
      }
     },
     "output_type": "display_data"
    }
   ],
   "source": [
    "#3\n",
    "\n",
    "telephone_with_parentheses = spark.sql(\"\"\"\n",
    "    SELECT memid, telephone\n",
    "    FROM members\n",
    "    WHERE telephone REGEXP '\\\\(.*\\\\)'\n",
    "    ORDER BY memid\n",
    "\"\"\")\n",
    "display(telephone_with_parentheses)\n"
   ]
  },
  {
   "cell_type": "code",
   "execution_count": 0,
   "metadata": {
    "application/vnd.databricks.v1+cell": {
     "cellMetadata": {
      "byteLimit": 2048000,
      "rowLimit": 10000
     },
     "inputWidgets": {},
     "nuid": "58ca6f8e-7669-454c-ae6b-70582854a32b",
     "showTitle": false,
     "tableResultSettingsMap": {},
     "title": ""
    }
   },
   "outputs": [
    {
     "output_type": "display_data",
     "data": {
      "text/html": [
       "<style scoped>\n",
       "  .table-result-container {\n",
       "    max-height: 300px;\n",
       "    overflow: auto;\n",
       "  }\n",
       "  table, th, td {\n",
       "    border: 1px solid black;\n",
       "    border-collapse: collapse;\n",
       "  }\n",
       "  th, td {\n",
       "    padding: 5px;\n",
       "  }\n",
       "  th {\n",
       "    text-align: left;\n",
       "  }\n",
       "</style><div class='table-result-container'><table class='table-result'><thead style='background-color: white'><tr><th>first_letter</th><th>member_count</th></tr></thead><tbody><tr><td>B</td><td>5</td></tr><tr><td>C</td><td>2</td></tr><tr><td>D</td><td>1</td></tr><tr><td>F</td><td>2</td></tr><tr><td>G</td><td>2</td></tr><tr><td>H</td><td>1</td></tr><tr><td>J</td><td>3</td></tr><tr><td>M</td><td>1</td></tr><tr><td>O</td><td>1</td></tr><tr><td>P</td><td>2</td></tr><tr><td>R</td><td>2</td></tr><tr><td>S</td><td>6</td></tr><tr><td>T</td><td>2</td></tr><tr><td>W</td><td>1</td></tr></tbody></table></div>"
      ]
     },
     "metadata": {
      "application/vnd.databricks.v1+output": {
       "addedWidgets": {},
       "aggData": [],
       "aggError": "",
       "aggOverflow": false,
       "aggSchema": [],
       "aggSeriesLimitReached": false,
       "aggType": "",
       "arguments": {},
       "columnCustomDisplayInfos": {},
       "data": [
        [
         "B",
         5
        ],
        [
         "C",
         2
        ],
        [
         "D",
         1
        ],
        [
         "F",
         2
        ],
        [
         "G",
         2
        ],
        [
         "H",
         1
        ],
        [
         "J",
         3
        ],
        [
         "M",
         1
        ],
        [
         "O",
         1
        ],
        [
         "P",
         2
        ],
        [
         "R",
         2
        ],
        [
         "S",
         6
        ],
        [
         "T",
         2
        ],
        [
         "W",
         1
        ]
       ],
       "datasetInfos": [],
       "dbfsResultPath": null,
       "isJsonSchema": true,
       "metadata": {},
       "overflow": false,
       "plotOptions": {
        "customPlotOptions": {},
        "displayType": "table",
        "pivotAggregation": null,
        "pivotColumns": null,
        "xColumns": null,
        "yColumns": null
       },
       "removedWidgets": [],
       "schema": [
        {
         "metadata": "{}",
         "name": "first_letter",
         "type": "\"string\""
        },
        {
         "metadata": "{}",
         "name": "member_count",
         "type": "\"long\""
        }
       ],
       "type": "table"
      }
     },
     "output_type": "display_data"
    }
   ],
   "source": [
    "#4 \n",
    "\n",
    "surname_count = spark.sql(\"\"\"\n",
    "    SELECT UPPER(SUBSTRING(surname, 1, 1)) AS first_letter, COUNT(*) AS member_count\n",
    "    FROM members\n",
    "    GROUP BY first_letter\n",
    "    ORDER BY first_letter\n",
    "\"\"\")\n",
    "display(surname_count)\n"
   ]
  },
  {
   "cell_type": "code",
   "execution_count": 0,
   "metadata": {
    "application/vnd.databricks.v1+cell": {
     "cellMetadata": {
      "byteLimit": 2048000,
      "rowLimit": 10000
     },
     "inputWidgets": {},
     "nuid": "1b415fae-983d-4bdf-b579-20425296dd92",
     "showTitle": false,
     "tableResultSettingsMap": {},
     "title": ""
    }
   },
   "outputs": [
    {
     "output_type": "display_data",
     "data": {
      "text/html": [
       "<style scoped>\n",
       "  .table-result-container {\n",
       "    max-height: 300px;\n",
       "    overflow: auto;\n",
       "  }\n",
       "  table, th, td {\n",
       "    border: 1px solid black;\n",
       "    border-collapse: collapse;\n",
       "  }\n",
       "  th, td {\n",
       "    padding: 5px;\n",
       "  }\n",
       "  th {\n",
       "    text-align: left;\n",
       "  }\n",
       "</style><div class='table-result-container'><table class='table-result'><thead style='background-color: white'><tr><th>date</th></tr></thead><tbody><tr><td>2012-10-01</td></tr><tr><td>2012-10-02</td></tr><tr><td>2012-10-03</td></tr><tr><td>2012-10-04</td></tr><tr><td>2012-10-05</td></tr><tr><td>2012-10-06</td></tr><tr><td>2012-10-07</td></tr><tr><td>2012-10-08</td></tr><tr><td>2012-10-09</td></tr><tr><td>2012-10-10</td></tr><tr><td>2012-10-11</td></tr><tr><td>2012-10-12</td></tr><tr><td>2012-10-13</td></tr><tr><td>2012-10-14</td></tr><tr><td>2012-10-15</td></tr><tr><td>2012-10-16</td></tr><tr><td>2012-10-17</td></tr><tr><td>2012-10-18</td></tr><tr><td>2012-10-19</td></tr><tr><td>2012-10-20</td></tr><tr><td>2012-10-21</td></tr><tr><td>2012-10-22</td></tr><tr><td>2012-10-23</td></tr><tr><td>2012-10-24</td></tr><tr><td>2012-10-25</td></tr><tr><td>2012-10-26</td></tr><tr><td>2012-10-27</td></tr><tr><td>2012-10-28</td></tr><tr><td>2012-10-29</td></tr><tr><td>2012-10-30</td></tr><tr><td>2012-10-31</td></tr></tbody></table></div>"
      ]
     },
     "metadata": {
      "application/vnd.databricks.v1+output": {
       "addedWidgets": {},
       "aggData": [],
       "aggError": "",
       "aggOverflow": false,
       "aggSchema": [],
       "aggSeriesLimitReached": false,
       "aggType": "",
       "arguments": {},
       "columnCustomDisplayInfos": {},
       "data": [
        [
         "2012-10-01"
        ],
        [
         "2012-10-02"
        ],
        [
         "2012-10-03"
        ],
        [
         "2012-10-04"
        ],
        [
         "2012-10-05"
        ],
        [
         "2012-10-06"
        ],
        [
         "2012-10-07"
        ],
        [
         "2012-10-08"
        ],
        [
         "2012-10-09"
        ],
        [
         "2012-10-10"
        ],
        [
         "2012-10-11"
        ],
        [
         "2012-10-12"
        ],
        [
         "2012-10-13"
        ],
        [
         "2012-10-14"
        ],
        [
         "2012-10-15"
        ],
        [
         "2012-10-16"
        ],
        [
         "2012-10-17"
        ],
        [
         "2012-10-18"
        ],
        [
         "2012-10-19"
        ],
        [
         "2012-10-20"
        ],
        [
         "2012-10-21"
        ],
        [
         "2012-10-22"
        ],
        [
         "2012-10-23"
        ],
        [
         "2012-10-24"
        ],
        [
         "2012-10-25"
        ],
        [
         "2012-10-26"
        ],
        [
         "2012-10-27"
        ],
        [
         "2012-10-28"
        ],
        [
         "2012-10-29"
        ],
        [
         "2012-10-30"
        ],
        [
         "2012-10-31"
        ]
       ],
       "datasetInfos": [],
       "dbfsResultPath": null,
       "isJsonSchema": true,
       "metadata": {},
       "overflow": false,
       "plotOptions": {
        "customPlotOptions": {},
        "displayType": "table",
        "pivotAggregation": null,
        "pivotColumns": null,
        "xColumns": null,
        "yColumns": null
       },
       "removedWidgets": [],
       "schema": [
        {
         "metadata": "{}",
         "name": "date",
         "type": "\"date\""
        }
       ],
       "type": "table"
      }
     },
     "output_type": "display_data"
    }
   ],
   "source": [
    "#5\n",
    "\n",
    "october_dates = spark.sql(\"\"\"\n",
    "    WITH date_range AS (\n",
    "        SELECT EXPLODE(SEQUENCE(DATE '2012-10-01', DATE '2012-10-31', INTERVAL 1 DAY)) AS date\n",
    "    )\n",
    "    SELECT date FROM date_range\n",
    "    ORDER BY date\n",
    "\"\"\")\n",
    "display(october_dates)\n",
    "\n"
   ]
  },
  {
   "cell_type": "code",
   "execution_count": 0,
   "metadata": {
    "application/vnd.databricks.v1+cell": {
     "cellMetadata": {
      "byteLimit": 2048000,
      "rowLimit": 10000
     },
     "inputWidgets": {},
     "nuid": "aebf9eb0-8d1d-4e79-a8b5-0da299a77db0",
     "showTitle": false,
     "tableResultSettingsMap": {},
     "title": ""
    }
   },
   "outputs": [
    {
     "output_type": "display_data",
     "data": {
      "text/html": [
       "<style scoped>\n",
       "  .table-result-container {\n",
       "    max-height: 300px;\n",
       "    overflow: auto;\n",
       "  }\n",
       "  table, th, td {\n",
       "    border: 1px solid black;\n",
       "    border-collapse: collapse;\n",
       "  }\n",
       "  th, td {\n",
       "    padding: 5px;\n",
       "  }\n",
       "  th {\n",
       "    text-align: left;\n",
       "  }\n",
       "</style><div class='table-result-container'><table class='table-result'><thead style='background-color: white'><tr><th>month</th><th>booking_count</th></tr></thead><tbody><tr><td>2012-07</td><td>658</td></tr><tr><td>2012-08</td><td>1472</td></tr><tr><td>2012-09</td><td>1913</td></tr><tr><td>2013-01</td><td>1</td></tr></tbody></table></div>"
      ]
     },
     "metadata": {
      "application/vnd.databricks.v1+output": {
       "addedWidgets": {},
       "aggData": [],
       "aggError": "",
       "aggOverflow": false,
       "aggSchema": [],
       "aggSeriesLimitReached": false,
       "aggType": "",
       "arguments": {},
       "columnCustomDisplayInfos": {},
       "data": [
        [
         "2012-07",
         658
        ],
        [
         "2012-08",
         1472
        ],
        [
         "2012-09",
         1913
        ],
        [
         "2013-01",
         1
        ]
       ],
       "datasetInfos": [],
       "dbfsResultPath": null,
       "isJsonSchema": true,
       "metadata": {},
       "overflow": false,
       "plotOptions": {
        "customPlotOptions": {},
        "displayType": "table",
        "pivotAggregation": null,
        "pivotColumns": null,
        "xColumns": null,
        "yColumns": null
       },
       "removedWidgets": [],
       "schema": [
        {
         "metadata": "{}",
         "name": "month",
         "type": "\"string\""
        },
        {
         "metadata": "{}",
         "name": "booking_count",
         "type": "\"long\""
        }
       ],
       "type": "table"
      }
     },
     "output_type": "display_data"
    }
   ],
   "source": [
    "#6\n",
    "\n",
    "booking_counts_by_month = spark.sql(\"\"\"\n",
    "    SELECT \n",
    "        DATE_FORMAT(starttime, 'yyyy-MM') AS month,\n",
    "        COUNT(*) AS booking_count\n",
    "    FROM bookings\n",
    "    GROUP BY month\n",
    "    ORDER BY month\n",
    "\"\"\")\n",
    "display(booking_counts_by_month)\n"
   ]
  },
  {
   "cell_type": "markdown",
   "metadata": {
    "application/vnd.databricks.v1+cell": {
     "cellMetadata": {
      "byteLimit": 2048000,
      "rowLimit": 10000
     },
     "inputWidgets": {},
     "nuid": "ff72e52d-1973-4b94-bc0e-87b1e12b2a54",
     "showTitle": false,
     "tableResultSettingsMap": {},
     "title": ""
    }
   },
   "source": [
    "### Question"
   ]
  }
 ],
 "metadata": {
  "application/vnd.databricks.v1+notebook": {
   "computePreferences": null,
   "dashboards": [],
   "environmentMetadata": null,
   "inputWidgetPreferences": null,
   "language": "python",
   "notebookMetadata": {
    "pythonIndentUnit": 4
   },
   "notebookName": "1 - Spark Dataframe Data Manipulation (pgexercises)",
   "widgets": {}
  }
 },
 "nbformat": 4,
 "nbformat_minor": 0
}